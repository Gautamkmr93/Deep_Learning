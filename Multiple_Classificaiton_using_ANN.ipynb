{
 "cells": [
  {
   "cell_type": "code",
   "execution_count": 11,
   "metadata": {
    "colab": {},
    "colab_type": "code",
    "id": "p7hv79aFsoXl"
   },
   "outputs": [],
   "source": [
    "import keras\n",
    "from keras.models import Sequential\n",
    "from keras.layers import Dense\n",
    "from keras.optimizers import Adam\n",
    "import seaborn as sns\n",
    "import pandas as pd\n",
    "import numpy as np"
   ]
  },
  {
   "cell_type": "code",
   "execution_count": 12,
   "metadata": {
    "colab": {
     "base_uri": "https://localhost:8080/",
     "height": 419
    },
    "colab_type": "code",
    "id": "Vj1-yeLwsoe3",
    "outputId": "b17ae425-168b-448f-9967-2b76b5c34532"
   },
   "outputs": [
    {
     "data": {
      "text/html": [
       "<div>\n",
       "<style scoped>\n",
       "    .dataframe tbody tr th:only-of-type {\n",
       "        vertical-align: middle;\n",
       "    }\n",
       "\n",
       "    .dataframe tbody tr th {\n",
       "        vertical-align: top;\n",
       "    }\n",
       "\n",
       "    .dataframe thead th {\n",
       "        text-align: right;\n",
       "    }\n",
       "</style>\n",
       "<table border=\"1\" class=\"dataframe\">\n",
       "  <thead>\n",
       "    <tr style=\"text-align: right;\">\n",
       "      <th></th>\n",
       "      <th>5.1</th>\n",
       "      <th>3.5</th>\n",
       "      <th>1.4</th>\n",
       "      <th>0.2</th>\n",
       "      <th>Iris-setosa</th>\n",
       "    </tr>\n",
       "  </thead>\n",
       "  <tbody>\n",
       "    <tr>\n",
       "      <th>0</th>\n",
       "      <td>4.9</td>\n",
       "      <td>3.0</td>\n",
       "      <td>1.4</td>\n",
       "      <td>0.2</td>\n",
       "      <td>Iris-setosa</td>\n",
       "    </tr>\n",
       "    <tr>\n",
       "      <th>1</th>\n",
       "      <td>4.7</td>\n",
       "      <td>3.2</td>\n",
       "      <td>1.3</td>\n",
       "      <td>0.2</td>\n",
       "      <td>Iris-setosa</td>\n",
       "    </tr>\n",
       "    <tr>\n",
       "      <th>2</th>\n",
       "      <td>4.6</td>\n",
       "      <td>3.1</td>\n",
       "      <td>1.5</td>\n",
       "      <td>0.2</td>\n",
       "      <td>Iris-setosa</td>\n",
       "    </tr>\n",
       "    <tr>\n",
       "      <th>3</th>\n",
       "      <td>5.0</td>\n",
       "      <td>3.6</td>\n",
       "      <td>1.4</td>\n",
       "      <td>0.2</td>\n",
       "      <td>Iris-setosa</td>\n",
       "    </tr>\n",
       "    <tr>\n",
       "      <th>4</th>\n",
       "      <td>5.4</td>\n",
       "      <td>3.9</td>\n",
       "      <td>1.7</td>\n",
       "      <td>0.4</td>\n",
       "      <td>Iris-setosa</td>\n",
       "    </tr>\n",
       "  </tbody>\n",
       "</table>\n",
       "</div>"
      ],
      "text/plain": [
       "   5.1  3.5  1.4  0.2  Iris-setosa\n",
       "0  4.9  3.0  1.4  0.2  Iris-setosa\n",
       "1  4.7  3.2  1.3  0.2  Iris-setosa\n",
       "2  4.6  3.1  1.5  0.2  Iris-setosa\n",
       "3  5.0  3.6  1.4  0.2  Iris-setosa\n",
       "4  5.4  3.9  1.7  0.4  Iris-setosa"
      ]
     },
     "execution_count": 12,
     "metadata": {},
     "output_type": "execute_result"
    }
   ],
   "source": [
    "dataset = pd.read_csv(\"iris_data.csv\")\n",
    "dataset.head()"
   ]
  },
  {
   "cell_type": "code",
   "execution_count": 13,
   "metadata": {
    "colab": {},
    "colab_type": "code",
    "id": "moC7ISYDsoku"
   },
   "outputs": [],
   "source": [
    "X = dataset.iloc[:,0:4].values\n",
    "y = dataset.iloc[:,4].values\n",
    "\n",
    "from sklearn.preprocessing import LabelEncoder\n",
    "encoder =  LabelEncoder()\n",
    "y1 = encoder.fit_transform(y)\n",
    "Y = pd.get_dummies(y1).values\n",
    "\n",
    "from sklearn.model_selection import train_test_split\n",
    "X_train,X_test, y_train,y_test = train_test_split(X,Y,test_size=0.2,random_state=0)"
   ]
  },
  {
   "cell_type": "code",
   "execution_count": 14,
   "metadata": {
    "colab": {
     "base_uri": "https://localhost:8080/",
     "height": 136
    },
    "colab_type": "code",
    "id": "yq9RfsdUwR5U",
    "outputId": "8ac35a75-4b6e-4e24-deba-628d56155738"
   },
   "outputs": [
    {
     "data": {
      "text/plain": [
       "array([0, 0, 0, 0, 0, 0, 0, 0, 0, 0, 0, 0, 0, 0, 0, 0, 0, 0, 0, 0, 0, 0,\n",
       "       0, 0, 0, 0, 0, 0, 0, 0, 0, 0, 0, 0, 0, 0, 0, 0, 0, 0, 0, 0, 0, 0,\n",
       "       0, 0, 0, 0, 0, 1, 1, 1, 1, 1, 1, 1, 1, 1, 1, 1, 1, 1, 1, 1, 1, 1,\n",
       "       1, 1, 1, 1, 1, 1, 1, 1, 1, 1, 1, 1, 1, 1, 1, 1, 1, 1, 1, 1, 1, 1,\n",
       "       1, 1, 1, 1, 1, 1, 1, 1, 1, 1, 1, 2, 2, 2, 2, 2, 2, 2, 2, 2, 2, 2,\n",
       "       2, 2, 2, 2, 2, 2, 2, 2, 2, 2, 2, 2, 2, 2, 2, 2, 2, 2, 2, 2, 2, 2,\n",
       "       2, 2, 2, 2, 2, 2, 2, 2, 2, 2, 2, 2, 2, 2, 2, 2, 2])"
      ]
     },
     "execution_count": 14,
     "metadata": {},
     "output_type": "execute_result"
    }
   ],
   "source": [
    "y1"
   ]
  },
  {
   "cell_type": "code",
   "execution_count": 15,
   "metadata": {
    "colab": {
     "base_uri": "https://localhost:8080/",
     "height": 231
    },
    "colab_type": "code",
    "id": "KZ8X63HVswnh",
    "outputId": "fe05700f-99cd-4231-ba24-0261fa6a5bc7"
   },
   "outputs": [],
   "source": [
    "model = Sequential()\n",
    "model.add(Dense(4,input_shape=(4,), activation='relu'))\n",
    "model.add(Dense(3, activation='softmax'))"
   ]
  },
  {
   "cell_type": "code",
   "execution_count": 16,
   "metadata": {
    "colab": {
     "base_uri": "https://localhost:8080/",
     "height": 163
    },
    "colab_type": "code",
    "id": "6QDB8sznsw1h",
    "outputId": "ca4de29f-c8a7-4a76-9c73-3b4be114e3ec"
   },
   "outputs": [],
   "source": [
    "model.compile(optimizer=\"Adam\", loss='categorical_crossentropy', metrics=['accuracy'])"
   ]
  },
  {
   "cell_type": "code",
   "execution_count": 17,
   "metadata": {
    "colab": {
     "base_uri": "https://localhost:8080/",
     "height": 1000
    },
    "colab_type": "code",
    "id": "Rs1GTTaTsxCQ",
    "outputId": "17727603-8120-4350-f8ea-e02e22855429"
   },
   "outputs": [
    {
     "name": "stdout",
     "output_type": "stream",
     "text": [
      "Epoch 1/150\n",
      "12/12 [==============================] - 0s 1ms/step - loss: 1.3748 - accuracy: 0.3529\n",
      "Epoch 2/150\n",
      "12/12 [==============================] - 0s 1ms/step - loss: 1.2851 - accuracy: 0.3529\n",
      "Epoch 3/150\n",
      "12/12 [==============================] - 0s 1ms/step - loss: 1.2202 - accuracy: 0.3529\n",
      "Epoch 4/150\n",
      "12/12 [==============================] - 0s 1ms/step - loss: 1.1828 - accuracy: 0.3529\n",
      "Epoch 5/150\n",
      "12/12 [==============================] - 0s 2ms/step - loss: 1.1573 - accuracy: 0.3529\n",
      "Epoch 6/150\n",
      "12/12 [==============================] - 0s 1ms/step - loss: 1.1373 - accuracy: 0.3529\n",
      "Epoch 7/150\n",
      "12/12 [==============================] - 0s 1ms/step - loss: 1.1170 - accuracy: 0.3529\n",
      "Epoch 8/150\n",
      "12/12 [==============================] - 0s 1ms/step - loss: 1.0974 - accuracy: 0.3529\n",
      "Epoch 9/150\n",
      "12/12 [==============================] - 0s 1ms/step - loss: 1.0778 - accuracy: 0.3529\n",
      "Epoch 10/150\n",
      "12/12 [==============================] - 0s 2ms/step - loss: 1.0616 - accuracy: 0.3529\n",
      "Epoch 11/150\n",
      "12/12 [==============================] - 0s 2ms/step - loss: 1.0443 - accuracy: 0.3529\n",
      "Epoch 12/150\n",
      "12/12 [==============================] - 0s 2ms/step - loss: 1.0291 - accuracy: 0.3529\n",
      "Epoch 13/150\n",
      "12/12 [==============================] - 0s 1ms/step - loss: 1.0135 - accuracy: 0.3529\n",
      "Epoch 14/150\n",
      "12/12 [==============================] - 0s 1ms/step - loss: 0.9996 - accuracy: 0.3529\n",
      "Epoch 15/150\n",
      "12/12 [==============================] - 0s 2ms/step - loss: 0.9858 - accuracy: 0.3529\n",
      "Epoch 16/150\n",
      "12/12 [==============================] - 0s 1ms/step - loss: 0.9726 - accuracy: 0.3529\n",
      "Epoch 17/150\n",
      "12/12 [==============================] - 0s 2ms/step - loss: 0.9595 - accuracy: 0.3529\n",
      "Epoch 18/150\n",
      "12/12 [==============================] - 0s 1ms/step - loss: 0.9474 - accuracy: 0.3697\n",
      "Epoch 19/150\n",
      "12/12 [==============================] - 0s 1ms/step - loss: 0.9357 - accuracy: 0.3782\n",
      "Epoch 20/150\n",
      "12/12 [==============================] - 0s 1ms/step - loss: 0.9242 - accuracy: 0.3782\n",
      "Epoch 21/150\n",
      "12/12 [==============================] - 0s 2ms/step - loss: 0.9135 - accuracy: 0.4538\n",
      "Epoch 22/150\n",
      "12/12 [==============================] - 0s 1ms/step - loss: 0.9028 - accuracy: 0.4790\n",
      "Epoch 23/150\n",
      "12/12 [==============================] - 0s 1ms/step - loss: 0.8927 - accuracy: 0.5126\n",
      "Epoch 24/150\n",
      "12/12 [==============================] - 0s 1ms/step - loss: 0.8831 - accuracy: 0.5462\n",
      "Epoch 25/150\n",
      "12/12 [==============================] - 0s 2ms/step - loss: 0.8736 - accuracy: 0.5546\n",
      "Epoch 26/150\n",
      "12/12 [==============================] - 0s 1ms/step - loss: 0.8646 - accuracy: 0.5714\n",
      "Epoch 27/150\n",
      "12/12 [==============================] - 0s 1ms/step - loss: 0.8559 - accuracy: 0.5966\n",
      "Epoch 28/150\n",
      "12/12 [==============================] - 0s 1ms/step - loss: 0.8477 - accuracy: 0.6303\n",
      "Epoch 29/150\n",
      "12/12 [==============================] - 0s 2ms/step - loss: 0.8396 - accuracy: 0.6471\n",
      "Epoch 30/150\n",
      "12/12 [==============================] - 0s 1ms/step - loss: 0.8322 - accuracy: 0.6471\n",
      "Epoch 31/150\n",
      "12/12 [==============================] - 0s 1ms/step - loss: 0.8252 - accuracy: 0.6471\n",
      "Epoch 32/150\n",
      "12/12 [==============================] - 0s 1ms/step - loss: 0.8187 - accuracy: 0.6471\n",
      "Epoch 33/150\n",
      "12/12 [==============================] - 0s 1ms/step - loss: 0.8120 - accuracy: 0.6555\n",
      "Epoch 34/150\n",
      "12/12 [==============================] - 0s 1ms/step - loss: 0.8058 - accuracy: 0.6639\n",
      "Epoch 35/150\n",
      "12/12 [==============================] - 0s 1ms/step - loss: 0.7999 - accuracy: 0.6639\n",
      "Epoch 36/150\n",
      "12/12 [==============================] - 0s 1ms/step - loss: 0.7941 - accuracy: 0.6639\n",
      "Epoch 37/150\n",
      "12/12 [==============================] - 0s 1ms/step - loss: 0.7884 - accuracy: 0.6639\n",
      "Epoch 38/150\n",
      "12/12 [==============================] - 0s 1ms/step - loss: 0.7830 - accuracy: 0.6639\n",
      "Epoch 39/150\n",
      "12/12 [==============================] - 0s 1ms/step - loss: 0.7780 - accuracy: 0.6639\n",
      "Epoch 40/150\n",
      "12/12 [==============================] - 0s 1ms/step - loss: 0.7724 - accuracy: 0.6639\n",
      "Epoch 41/150\n",
      "12/12 [==============================] - 0s 1ms/step - loss: 0.7665 - accuracy: 0.6639\n",
      "Epoch 42/150\n",
      "12/12 [==============================] - 0s 1ms/step - loss: 0.7607 - accuracy: 0.6639\n",
      "Epoch 43/150\n",
      "12/12 [==============================] - 0s 1ms/step - loss: 0.7552 - accuracy: 0.6639\n",
      "Epoch 44/150\n",
      "12/12 [==============================] - 0s 1ms/step - loss: 0.7494 - accuracy: 0.6639\n",
      "Epoch 45/150\n",
      "12/12 [==============================] - 0s 1ms/step - loss: 0.7440 - accuracy: 0.6639\n",
      "Epoch 46/150\n",
      "12/12 [==============================] - 0s 1ms/step - loss: 0.7387 - accuracy: 0.6639\n",
      "Epoch 47/150\n",
      "12/12 [==============================] - 0s 2ms/step - loss: 0.7332 - accuracy: 0.6639\n",
      "Epoch 48/150\n",
      "12/12 [==============================] - 0s 1ms/step - loss: 0.7277 - accuracy: 0.6639\n",
      "Epoch 49/150\n",
      "12/12 [==============================] - 0s 1ms/step - loss: 0.7222 - accuracy: 0.6639\n",
      "Epoch 50/150\n",
      "12/12 [==============================] - 0s 1ms/step - loss: 0.7162 - accuracy: 0.6639\n",
      "Epoch 51/150\n",
      "12/12 [==============================] - 0s 1ms/step - loss: 0.7105 - accuracy: 0.6639\n",
      "Epoch 52/150\n",
      "12/12 [==============================] - 0s 2ms/step - loss: 0.7056 - accuracy: 0.6639\n",
      "Epoch 53/150\n",
      "12/12 [==============================] - 0s 1ms/step - loss: 0.7002 - accuracy: 0.6639\n",
      "Epoch 54/150\n",
      "12/12 [==============================] - 0s 2ms/step - loss: 0.6952 - accuracy: 0.6723\n",
      "Epoch 55/150\n",
      "12/12 [==============================] - 0s 1ms/step - loss: 0.6904 - accuracy: 0.6891\n",
      "Epoch 56/150\n",
      "12/12 [==============================] - 0s 1ms/step - loss: 0.6858 - accuracy: 0.6891\n",
      "Epoch 57/150\n",
      "12/12 [==============================] - 0s 1ms/step - loss: 0.6811 - accuracy: 0.6891\n",
      "Epoch 58/150\n",
      "12/12 [==============================] - 0s 1ms/step - loss: 0.6764 - accuracy: 0.6891\n",
      "Epoch 59/150\n",
      "12/12 [==============================] - 0s 1ms/step - loss: 0.6719 - accuracy: 0.6891\n",
      "Epoch 60/150\n",
      "12/12 [==============================] - 0s 1ms/step - loss: 0.6672 - accuracy: 0.6891\n",
      "Epoch 61/150\n",
      "12/12 [==============================] - 0s 1ms/step - loss: 0.6630 - accuracy: 0.6891\n",
      "Epoch 62/150\n",
      "12/12 [==============================] - 0s 1ms/step - loss: 0.6590 - accuracy: 0.7143\n",
      "Epoch 63/150\n",
      "12/12 [==============================] - 0s 1ms/step - loss: 0.6545 - accuracy: 0.7395\n",
      "Epoch 64/150\n",
      "12/12 [==============================] - 0s 1ms/step - loss: 0.6504 - accuracy: 0.7479\n",
      "Epoch 65/150\n",
      "12/12 [==============================] - 0s 1ms/step - loss: 0.6463 - accuracy: 0.7479\n",
      "Epoch 66/150\n",
      "12/12 [==============================] - 0s 1ms/step - loss: 0.6426 - accuracy: 0.7479\n",
      "Epoch 67/150\n",
      "12/12 [==============================] - 0s 1ms/step - loss: 0.6385 - accuracy: 0.7563\n",
      "Epoch 68/150\n",
      "12/12 [==============================] - 0s 1ms/step - loss: 0.6344 - accuracy: 0.7647\n",
      "Epoch 69/150\n",
      "12/12 [==============================] - 0s 1ms/step - loss: 0.6305 - accuracy: 0.7647\n",
      "Epoch 70/150\n",
      "12/12 [==============================] - 0s 1ms/step - loss: 0.6267 - accuracy: 0.7731\n",
      "Epoch 71/150\n",
      "12/12 [==============================] - 0s 1ms/step - loss: 0.6229 - accuracy: 0.7731\n",
      "Epoch 72/150\n",
      "12/12 [==============================] - 0s 1ms/step - loss: 0.6191 - accuracy: 0.7731\n",
      "Epoch 73/150\n",
      "12/12 [==============================] - 0s 1ms/step - loss: 0.6156 - accuracy: 0.7815\n",
      "Epoch 74/150\n",
      "12/12 [==============================] - 0s 1ms/step - loss: 0.6119 - accuracy: 0.8151\n",
      "Epoch 75/150\n",
      "12/12 [==============================] - 0s 1ms/step - loss: 0.6084 - accuracy: 0.8319\n",
      "Epoch 76/150\n",
      "12/12 [==============================] - 0s 1ms/step - loss: 0.6047 - accuracy: 0.8319\n",
      "Epoch 77/150\n",
      "12/12 [==============================] - 0s 1ms/step - loss: 0.6014 - accuracy: 0.8319\n",
      "Epoch 78/150\n",
      "12/12 [==============================] - 0s 1ms/step - loss: 0.5978 - accuracy: 0.8403\n",
      "Epoch 79/150\n",
      "12/12 [==============================] - 0s 2ms/step - loss: 0.5944 - accuracy: 0.8403\n",
      "Epoch 80/150\n",
      "12/12 [==============================] - 0s 1ms/step - loss: 0.5910 - accuracy: 0.8571\n",
      "Epoch 81/150\n",
      "12/12 [==============================] - 0s 1ms/step - loss: 0.5875 - accuracy: 0.8571\n",
      "Epoch 82/150\n",
      "12/12 [==============================] - 0s 1ms/step - loss: 0.5843 - accuracy: 0.8571\n",
      "Epoch 83/150\n"
     ]
    },
    {
     "name": "stdout",
     "output_type": "stream",
     "text": [
      "12/12 [==============================] - 0s 1ms/step - loss: 0.5811 - accuracy: 0.8487\n",
      "Epoch 84/150\n",
      "12/12 [==============================] - 0s 1ms/step - loss: 0.5778 - accuracy: 0.8655\n",
      "Epoch 85/150\n",
      "12/12 [==============================] - 0s 1ms/step - loss: 0.5743 - accuracy: 0.8655\n",
      "Epoch 86/150\n",
      "12/12 [==============================] - 0s 1ms/step - loss: 0.5715 - accuracy: 0.8824\n",
      "Epoch 87/150\n",
      "12/12 [==============================] - 0s 1ms/step - loss: 0.5675 - accuracy: 0.8908\n",
      "Epoch 88/150\n",
      "12/12 [==============================] - 0s 909us/step - loss: 0.5647 - accuracy: 0.8739\n",
      "Epoch 89/150\n",
      "12/12 [==============================] - 0s 1ms/step - loss: 0.5611 - accuracy: 0.8655\n",
      "Epoch 90/150\n",
      "12/12 [==============================] - 0s 1ms/step - loss: 0.5588 - accuracy: 0.8824\n",
      "Epoch 91/150\n",
      "12/12 [==============================] - 0s 1ms/step - loss: 0.5547 - accuracy: 0.8908\n",
      "Epoch 92/150\n",
      "12/12 [==============================] - 0s 1ms/step - loss: 0.5516 - accuracy: 0.8824\n",
      "Epoch 93/150\n",
      "12/12 [==============================] - 0s 1ms/step - loss: 0.5495 - accuracy: 0.8655\n",
      "Epoch 94/150\n",
      "12/12 [==============================] - 0s 1ms/step - loss: 0.5455 - accuracy: 0.8824\n",
      "Epoch 95/150\n",
      "12/12 [==============================] - 0s 1ms/step - loss: 0.5424 - accuracy: 0.8908\n",
      "Epoch 96/150\n",
      "12/12 [==============================] - 0s 1ms/step - loss: 0.5395 - accuracy: 0.8908\n",
      "Epoch 97/150\n",
      "12/12 [==============================] - 0s 1ms/step - loss: 0.5365 - accuracy: 0.8908\n",
      "Epoch 98/150\n",
      "12/12 [==============================] - 0s 1ms/step - loss: 0.5336 - accuracy: 0.8908\n",
      "Epoch 99/150\n",
      "12/12 [==============================] - 0s 1ms/step - loss: 0.5307 - accuracy: 0.8908\n",
      "Epoch 100/150\n",
      "12/12 [==============================] - 0s 1ms/step - loss: 0.5279 - accuracy: 0.8908\n",
      "Epoch 101/150\n",
      "12/12 [==============================] - 0s 1ms/step - loss: 0.5249 - accuracy: 0.8908\n",
      "Epoch 102/150\n",
      "12/12 [==============================] - 0s 1ms/step - loss: 0.5218 - accuracy: 0.8908\n",
      "Epoch 103/150\n",
      "12/12 [==============================] - 0s 1ms/step - loss: 0.5191 - accuracy: 0.8908\n",
      "Epoch 104/150\n",
      "12/12 [==============================] - 0s 1ms/step - loss: 0.5164 - accuracy: 0.8908\n",
      "Epoch 105/150\n",
      "12/12 [==============================] - 0s 1ms/step - loss: 0.5142 - accuracy: 0.8908\n",
      "Epoch 106/150\n",
      "12/12 [==============================] - 0s 1ms/step - loss: 0.5149 - accuracy: 0.8824\n",
      "Epoch 107/150\n",
      "12/12 [==============================] - 0s 1ms/step - loss: 0.5090 - accuracy: 0.8908\n",
      "Epoch 108/150\n",
      "12/12 [==============================] - 0s 1ms/step - loss: 0.5050 - accuracy: 0.8992\n",
      "Epoch 109/150\n",
      "12/12 [==============================] - 0s 2ms/step - loss: 0.5025 - accuracy: 0.8992\n",
      "Epoch 110/150\n",
      "12/12 [==============================] - 0s 1ms/step - loss: 0.4996 - accuracy: 0.8908\n",
      "Epoch 111/150\n",
      "12/12 [==============================] - 0s 1ms/step - loss: 0.4968 - accuracy: 0.8908\n",
      "Epoch 112/150\n",
      "12/12 [==============================] - 0s 1ms/step - loss: 0.4948 - accuracy: 0.8908\n",
      "Epoch 113/150\n",
      "12/12 [==============================] - 0s 1ms/step - loss: 0.4926 - accuracy: 0.8992\n",
      "Epoch 114/150\n",
      "12/12 [==============================] - 0s 1ms/step - loss: 0.4887 - accuracy: 0.8992\n",
      "Epoch 115/150\n",
      "12/12 [==============================] - 0s 1ms/step - loss: 0.4864 - accuracy: 0.8992\n",
      "Epoch 116/150\n",
      "12/12 [==============================] - 0s 1ms/step - loss: 0.4849 - accuracy: 0.8992\n",
      "Epoch 117/150\n",
      "12/12 [==============================] - 0s 1ms/step - loss: 0.4822 - accuracy: 0.8992\n",
      "Epoch 118/150\n",
      "12/12 [==============================] - 0s 1ms/step - loss: 0.4788 - accuracy: 0.8992\n",
      "Epoch 119/150\n",
      "12/12 [==============================] - 0s 1ms/step - loss: 0.4761 - accuracy: 0.8992\n",
      "Epoch 120/150\n",
      "12/12 [==============================] - 0s 1ms/step - loss: 0.4738 - accuracy: 0.9076\n",
      "Epoch 121/150\n",
      "12/12 [==============================] - 0s 1ms/step - loss: 0.4720 - accuracy: 0.8992\n",
      "Epoch 122/150\n",
      "12/12 [==============================] - 0s 1ms/step - loss: 0.4689 - accuracy: 0.8992\n",
      "Epoch 123/150\n",
      "12/12 [==============================] - 0s 1ms/step - loss: 0.4661 - accuracy: 0.9076\n",
      "Epoch 124/150\n",
      "12/12 [==============================] - 0s 1ms/step - loss: 0.4635 - accuracy: 0.9076\n",
      "Epoch 125/150\n",
      "12/12 [==============================] - 0s 1ms/step - loss: 0.4613 - accuracy: 0.9076\n",
      "Epoch 126/150\n",
      "12/12 [==============================] - 0s 1ms/step - loss: 0.4588 - accuracy: 0.9076\n",
      "Epoch 127/150\n",
      "12/12 [==============================] - 0s 1ms/step - loss: 0.4569 - accuracy: 0.8992\n",
      "Epoch 128/150\n",
      "12/12 [==============================] - 0s 1ms/step - loss: 0.4535 - accuracy: 0.8992\n",
      "Epoch 129/150\n",
      "12/12 [==============================] - 0s 1ms/step - loss: 0.4513 - accuracy: 0.9076\n",
      "Epoch 130/150\n",
      "12/12 [==============================] - 0s 1ms/step - loss: 0.4497 - accuracy: 0.8992\n",
      "Epoch 131/150\n",
      "12/12 [==============================] - 0s 1ms/step - loss: 0.4464 - accuracy: 0.9076\n",
      "Epoch 132/150\n",
      "12/12 [==============================] - 0s 1ms/step - loss: 0.4451 - accuracy: 0.9076\n",
      "Epoch 133/150\n",
      "12/12 [==============================] - 0s 1ms/step - loss: 0.4417 - accuracy: 0.9076\n",
      "Epoch 134/150\n",
      "12/12 [==============================] - 0s 1ms/step - loss: 0.4407 - accuracy: 0.8992\n",
      "Epoch 135/150\n",
      "12/12 [==============================] - 0s 1ms/step - loss: 0.4375 - accuracy: 0.9076\n",
      "Epoch 136/150\n",
      "12/12 [==============================] - 0s 1ms/step - loss: 0.4354 - accuracy: 0.9076\n",
      "Epoch 137/150\n",
      "12/12 [==============================] - 0s 1ms/step - loss: 0.4324 - accuracy: 0.9076\n",
      "Epoch 138/150\n",
      "12/12 [==============================] - 0s 1ms/step - loss: 0.4331 - accuracy: 0.9076\n",
      "Epoch 139/150\n",
      "12/12 [==============================] - 0s 1ms/step - loss: 0.4320 - accuracy: 0.9160\n",
      "Epoch 140/150\n",
      "12/12 [==============================] - 0s 1ms/step - loss: 0.4267 - accuracy: 0.9160\n",
      "Epoch 141/150\n",
      "12/12 [==============================] - 0s 1ms/step - loss: 0.4236 - accuracy: 0.9076\n",
      "Epoch 142/150\n",
      "12/12 [==============================] - 0s 1ms/step - loss: 0.4212 - accuracy: 0.9076\n",
      "Epoch 143/150\n",
      "12/12 [==============================] - 0s 1ms/step - loss: 0.4190 - accuracy: 0.9076\n",
      "Epoch 144/150\n",
      "12/12 [==============================] - 0s 1ms/step - loss: 0.4171 - accuracy: 0.9076\n",
      "Epoch 145/150\n",
      "12/12 [==============================] - 0s 1ms/step - loss: 0.4151 - accuracy: 0.9076\n",
      "Epoch 146/150\n",
      "12/12 [==============================] - 0s 1ms/step - loss: 0.4126 - accuracy: 0.9160\n",
      "Epoch 147/150\n",
      "12/12 [==============================] - 0s 1ms/step - loss: 0.4103 - accuracy: 0.9160\n",
      "Epoch 148/150\n",
      "12/12 [==============================] - 0s 1ms/step - loss: 0.4092 - accuracy: 0.9076\n",
      "Epoch 149/150\n",
      "12/12 [==============================] - 0s 1ms/step - loss: 0.4067 - accuracy: 0.9076\n",
      "Epoch 150/150\n",
      "12/12 [==============================] - 0s 1ms/step - loss: 0.4039 - accuracy: 0.9076\n"
     ]
    },
    {
     "data": {
      "text/plain": [
       "<keras.callbacks.History at 0x28c18633130>"
      ]
     },
     "execution_count": 17,
     "metadata": {},
     "output_type": "execute_result"
    }
   ],
   "source": [
    "model.fit(X_train, y_train, batch_size=10, epochs=150)"
   ]
  },
  {
   "cell_type": "code",
   "execution_count": 18,
   "metadata": {
    "colab": {},
    "colab_type": "code",
    "id": "_p6yilvas2kZ"
   },
   "outputs": [
    {
     "name": "stdout",
     "output_type": "stream",
     "text": [
      "1/1 [==============================] - 0s 42ms/step\n"
     ]
    }
   ],
   "source": [
    "y_pred = model.predict(X_test)\n",
    "y_test_class = np.argmax(y_test,axis=1)\n",
    "y_pred_class = np.argmax(y_pred,axis=1)"
   ]
  },
  {
   "cell_type": "code",
   "execution_count": 19,
   "metadata": {
    "colab": {
     "base_uri": "https://localhost:8080/",
     "height": 238
    },
    "colab_type": "code",
    "id": "WrgLET2Ns22J",
    "outputId": "a53a01f5-1119-4cc9-cad7-469eafb7a247"
   },
   "outputs": [
    {
     "name": "stdout",
     "output_type": "stream",
     "text": [
      "              precision    recall  f1-score   support\n",
      "\n",
      "           0       1.00      1.00      1.00        12\n",
      "           1       0.75      0.90      0.82        10\n",
      "           2       0.83      0.62      0.71         8\n",
      "\n",
      "    accuracy                           0.87        30\n",
      "   macro avg       0.86      0.84      0.84        30\n",
      "weighted avg       0.87      0.87      0.86        30\n",
      "\n",
      "[[12  0  0]\n",
      " [ 0  9  1]\n",
      " [ 0  3  5]]\n"
     ]
    }
   ],
   "source": [
    "from sklearn.metrics import classification_report,confusion_matrix\n",
    "print(classification_report(y_test_class,y_pred_class))\n",
    "print(confusion_matrix(y_test_class,y_pred_class))"
   ]
  },
  {
   "cell_type": "code",
   "execution_count": null,
   "metadata": {
    "colab": {},
    "colab_type": "code",
    "id": "2z0VjOco1zhs"
   },
   "outputs": [],
   "source": []
  }
 ],
 "metadata": {
  "colab": {
   "collapsed_sections": [],
   "name": "Multiple Classificaiton using IRIS Dataset.ipynb",
   "provenance": []
  },
  "kernelspec": {
   "display_name": "Python 3 (ipykernel)",
   "language": "python",
   "name": "python3"
  },
  "language_info": {
   "codemirror_mode": {
    "name": "ipython",
    "version": 3
   },
   "file_extension": ".py",
   "mimetype": "text/x-python",
   "name": "python",
   "nbconvert_exporter": "python",
   "pygments_lexer": "ipython3",
   "version": "3.9.7"
  }
 },
 "nbformat": 4,
 "nbformat_minor": 1
}
