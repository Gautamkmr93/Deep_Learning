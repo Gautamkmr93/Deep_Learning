{
 "cells": [
  {
   "cell_type": "code",
   "execution_count": 1,
   "metadata": {
    "colab": {},
    "colab_type": "code",
    "id": "p7hv79aFsoXl"
   },
   "outputs": [],
   "source": [
    "import keras\n",
    "from keras.models import Sequential\n",
    "from keras.layers import Dense\n",
    "from keras.optimizers import Adam\n",
    "import pydot\n",
    "import graphviz\n",
    "from IPython.display import SVG\n",
    "from keras.utils.vis_utils import model_to_dot\n",
    "from keras.utils import plot_model\n",
    "import seaborn as sns\n",
    "import pandas as pd\n",
    "import numpy as np"
   ]
  },
  {
   "cell_type": "code",
   "execution_count": 2,
   "metadata": {
    "colab": {
     "base_uri": "https://localhost:8080/",
     "height": 419
    },
    "colab_type": "code",
    "id": "Vj1-yeLwsoe3",
    "outputId": "b17ae425-168b-448f-9967-2b76b5c34532"
   },
   "outputs": [
    {
     "data": {
      "text/html": [
       "<div>\n",
       "<style scoped>\n",
       "    .dataframe tbody tr th:only-of-type {\n",
       "        vertical-align: middle;\n",
       "    }\n",
       "\n",
       "    .dataframe tbody tr th {\n",
       "        vertical-align: top;\n",
       "    }\n",
       "\n",
       "    .dataframe thead th {\n",
       "        text-align: right;\n",
       "    }\n",
       "</style>\n",
       "<table border=\"1\" class=\"dataframe\">\n",
       "  <thead>\n",
       "    <tr style=\"text-align: right;\">\n",
       "      <th></th>\n",
       "      <th>5.1</th>\n",
       "      <th>3.5</th>\n",
       "      <th>1.4</th>\n",
       "      <th>0.2</th>\n",
       "      <th>Iris-setosa</th>\n",
       "    </tr>\n",
       "  </thead>\n",
       "  <tbody>\n",
       "    <tr>\n",
       "      <th>0</th>\n",
       "      <td>4.9</td>\n",
       "      <td>3.0</td>\n",
       "      <td>1.4</td>\n",
       "      <td>0.2</td>\n",
       "      <td>Iris-setosa</td>\n",
       "    </tr>\n",
       "    <tr>\n",
       "      <th>1</th>\n",
       "      <td>4.7</td>\n",
       "      <td>3.2</td>\n",
       "      <td>1.3</td>\n",
       "      <td>0.2</td>\n",
       "      <td>Iris-setosa</td>\n",
       "    </tr>\n",
       "    <tr>\n",
       "      <th>2</th>\n",
       "      <td>4.6</td>\n",
       "      <td>3.1</td>\n",
       "      <td>1.5</td>\n",
       "      <td>0.2</td>\n",
       "      <td>Iris-setosa</td>\n",
       "    </tr>\n",
       "    <tr>\n",
       "      <th>3</th>\n",
       "      <td>5.0</td>\n",
       "      <td>3.6</td>\n",
       "      <td>1.4</td>\n",
       "      <td>0.2</td>\n",
       "      <td>Iris-setosa</td>\n",
       "    </tr>\n",
       "    <tr>\n",
       "      <th>4</th>\n",
       "      <td>5.4</td>\n",
       "      <td>3.9</td>\n",
       "      <td>1.7</td>\n",
       "      <td>0.4</td>\n",
       "      <td>Iris-setosa</td>\n",
       "    </tr>\n",
       "  </tbody>\n",
       "</table>\n",
       "</div>"
      ],
      "text/plain": [
       "   5.1  3.5  1.4  0.2  Iris-setosa\n",
       "0  4.9  3.0  1.4  0.2  Iris-setosa\n",
       "1  4.7  3.2  1.3  0.2  Iris-setosa\n",
       "2  4.6  3.1  1.5  0.2  Iris-setosa\n",
       "3  5.0  3.6  1.4  0.2  Iris-setosa\n",
       "4  5.4  3.9  1.7  0.4  Iris-setosa"
      ]
     },
     "execution_count": 2,
     "metadata": {},
     "output_type": "execute_result"
    }
   ],
   "source": [
    "dataset = pd.read_csv(\"iris_data.csv\")\n",
    "dataset.head()"
   ]
  },
  {
   "cell_type": "code",
   "execution_count": 3,
   "metadata": {
    "colab": {},
    "colab_type": "code",
    "id": "moC7ISYDsoku"
   },
   "outputs": [],
   "source": [
    "X = dataset.iloc[:,0:4].values\n",
    "y = dataset.iloc[:,4].values\n",
    "\n",
    "from sklearn.preprocessing import LabelEncoder\n",
    "encoder =  LabelEncoder()\n",
    "y1 = encoder.fit_transform(y)\n",
    "Y = pd.get_dummies(y1).values\n",
    "\n",
    "from sklearn.model_selection import train_test_split\n",
    "X_train,X_test, y_train,y_test = train_test_split(X,Y,test_size=0.2,random_state=0)"
   ]
  },
  {
   "cell_type": "code",
   "execution_count": 4,
   "metadata": {
    "colab": {
     "base_uri": "https://localhost:8080/",
     "height": 136
    },
    "colab_type": "code",
    "id": "yq9RfsdUwR5U",
    "outputId": "8ac35a75-4b6e-4e24-deba-628d56155738"
   },
   "outputs": [
    {
     "data": {
      "text/plain": [
       "array([0, 0, 0, 0, 0, 0, 0, 0, 0, 0, 0, 0, 0, 0, 0, 0, 0, 0, 0, 0, 0, 0,\n",
       "       0, 0, 0, 0, 0, 0, 0, 0, 0, 0, 0, 0, 0, 0, 0, 0, 0, 0, 0, 0, 0, 0,\n",
       "       0, 0, 0, 0, 0, 1, 1, 1, 1, 1, 1, 1, 1, 1, 1, 1, 1, 1, 1, 1, 1, 1,\n",
       "       1, 1, 1, 1, 1, 1, 1, 1, 1, 1, 1, 1, 1, 1, 1, 1, 1, 1, 1, 1, 1, 1,\n",
       "       1, 1, 1, 1, 1, 1, 1, 1, 1, 1, 1, 2, 2, 2, 2, 2, 2, 2, 2, 2, 2, 2,\n",
       "       2, 2, 2, 2, 2, 2, 2, 2, 2, 2, 2, 2, 2, 2, 2, 2, 2, 2, 2, 2, 2, 2,\n",
       "       2, 2, 2, 2, 2, 2, 2, 2, 2, 2, 2, 2, 2, 2, 2, 2, 2])"
      ]
     },
     "execution_count": 4,
     "metadata": {},
     "output_type": "execute_result"
    }
   ],
   "source": [
    "y1"
   ]
  },
  {
   "cell_type": "code",
   "execution_count": 5,
   "metadata": {
    "colab": {
     "base_uri": "https://localhost:8080/",
     "height": 231
    },
    "colab_type": "code",
    "id": "KZ8X63HVswnh",
    "outputId": "fe05700f-99cd-4231-ba24-0261fa6a5bc7"
   },
   "outputs": [],
   "source": [
    "model = Sequential()\n",
    "model.add(Dense(4,input_shape=(4,), activation='relu'))\n",
    "model.add(Dense(3, activation='softmax'))"
   ]
  },
  {
   "cell_type": "code",
   "execution_count": 6,
   "metadata": {
    "colab": {
     "base_uri": "https://localhost:8080/",
     "height": 163
    },
    "colab_type": "code",
    "id": "6QDB8sznsw1h",
    "outputId": "ca4de29f-c8a7-4a76-9c73-3b4be114e3ec"
   },
   "outputs": [],
   "source": [
    "model.compile(optimizer=\"Adam\", loss='categorical_crossentropy', metrics=['accuracy'])"
   ]
  },
  {
   "cell_type": "code",
   "execution_count": 7,
   "metadata": {
    "colab": {
     "base_uri": "https://localhost:8080/",
     "height": 1000
    },
    "colab_type": "code",
    "id": "Rs1GTTaTsxCQ",
    "outputId": "17727603-8120-4350-f8ea-e02e22855429"
   },
   "outputs": [
    {
     "name": "stdout",
     "output_type": "stream",
     "text": [
      "Epoch 1/100\n",
      "12/12 [==============================] - 0s 1ms/step - loss: 0.6268 - accuracy: 0.6639\n",
      "Epoch 2/100\n",
      "12/12 [==============================] - 0s 2ms/step - loss: 0.6040 - accuracy: 0.6387\n",
      "Epoch 3/100\n",
      "12/12 [==============================] - 0s 1ms/step - loss: 0.5903 - accuracy: 0.5882\n",
      "Epoch 4/100\n",
      "12/12 [==============================] - 0s 2ms/step - loss: 0.5840 - accuracy: 0.5798\n",
      "Epoch 5/100\n",
      "12/12 [==============================] - 0s 2ms/step - loss: 0.5777 - accuracy: 0.5714\n",
      "Epoch 6/100\n",
      "12/12 [==============================] - 0s 2ms/step - loss: 0.5717 - accuracy: 0.5966\n",
      "Epoch 7/100\n",
      "12/12 [==============================] - 0s 1ms/step - loss: 0.5659 - accuracy: 0.6050\n",
      "Epoch 8/100\n",
      "12/12 [==============================] - 0s 2ms/step - loss: 0.5595 - accuracy: 0.6050\n",
      "Epoch 9/100\n",
      "12/12 [==============================] - 0s 1ms/step - loss: 0.5535 - accuracy: 0.6050\n",
      "Epoch 10/100\n",
      "12/12 [==============================] - 0s 1ms/step - loss: 0.5478 - accuracy: 0.6303\n",
      "Epoch 11/100\n",
      "12/12 [==============================] - 0s 1ms/step - loss: 0.5424 - accuracy: 0.6555\n",
      "Epoch 12/100\n",
      "12/12 [==============================] - 0s 1ms/step - loss: 0.5365 - accuracy: 0.6387\n",
      "Epoch 13/100\n",
      "12/12 [==============================] - 0s 2ms/step - loss: 0.5322 - accuracy: 0.6303\n",
      "Epoch 14/100\n",
      "12/12 [==============================] - 0s 1ms/step - loss: 0.5266 - accuracy: 0.6639\n",
      "Epoch 15/100\n",
      "12/12 [==============================] - 0s 1ms/step - loss: 0.5192 - accuracy: 0.6639\n",
      "Epoch 16/100\n",
      "12/12 [==============================] - 0s 2ms/step - loss: 0.5138 - accuracy: 0.6807\n",
      "Epoch 17/100\n",
      "12/12 [==============================] - 0s 2ms/step - loss: 0.5102 - accuracy: 0.6807\n",
      "Epoch 18/100\n",
      "12/12 [==============================] - 0s 1ms/step - loss: 0.5034 - accuracy: 0.6807\n",
      "Epoch 19/100\n",
      "12/12 [==============================] - 0s 2ms/step - loss: 0.4979 - accuracy: 0.6807\n",
      "Epoch 20/100\n",
      "12/12 [==============================] - 0s 1ms/step - loss: 0.4926 - accuracy: 0.6807\n",
      "Epoch 21/100\n",
      "12/12 [==============================] - 0s 1ms/step - loss: 0.4874 - accuracy: 0.6807\n",
      "Epoch 22/100\n",
      "12/12 [==============================] - 0s 2ms/step - loss: 0.4825 - accuracy: 0.7059\n",
      "Epoch 23/100\n",
      "12/12 [==============================] - 0s 1ms/step - loss: 0.4773 - accuracy: 0.7227\n",
      "Epoch 24/100\n",
      "12/12 [==============================] - 0s 2ms/step - loss: 0.4729 - accuracy: 0.7479\n",
      "Epoch 25/100\n",
      "12/12 [==============================] - 0s 1ms/step - loss: 0.4681 - accuracy: 0.7899\n",
      "Epoch 26/100\n",
      "12/12 [==============================] - 0s 2ms/step - loss: 0.4623 - accuracy: 0.7815\n",
      "Epoch 27/100\n",
      "12/12 [==============================] - 0s 1ms/step - loss: 0.4578 - accuracy: 0.7479\n",
      "Epoch 28/100\n",
      "12/12 [==============================] - 0s 1ms/step - loss: 0.4535 - accuracy: 0.7479\n",
      "Epoch 29/100\n",
      "12/12 [==============================] - 0s 2ms/step - loss: 0.4485 - accuracy: 0.8151\n",
      "Epoch 30/100\n",
      "12/12 [==============================] - 0s 2ms/step - loss: 0.4435 - accuracy: 0.8403\n",
      "Epoch 31/100\n",
      "12/12 [==============================] - 0s 1ms/step - loss: 0.4399 - accuracy: 0.8824\n",
      "Epoch 32/100\n",
      "12/12 [==============================] - 0s 1ms/step - loss: 0.4341 - accuracy: 0.8824\n",
      "Epoch 33/100\n",
      "12/12 [==============================] - 0s 1ms/step - loss: 0.4302 - accuracy: 0.8739\n",
      "Epoch 34/100\n",
      "12/12 [==============================] - 0s 2ms/step - loss: 0.4257 - accuracy: 0.8655\n",
      "Epoch 35/100\n",
      "12/12 [==============================] - 0s 2ms/step - loss: 0.4216 - accuracy: 0.8655\n",
      "Epoch 36/100\n",
      "12/12 [==============================] - 0s 1ms/step - loss: 0.4168 - accuracy: 0.8655\n",
      "Epoch 37/100\n",
      "12/12 [==============================] - 0s 1ms/step - loss: 0.4128 - accuracy: 0.9076\n",
      "Epoch 38/100\n",
      "12/12 [==============================] - 0s 2ms/step - loss: 0.4077 - accuracy: 0.9160\n",
      "Epoch 39/100\n",
      "12/12 [==============================] - 0s 1ms/step - loss: 0.4036 - accuracy: 0.9076\n",
      "Epoch 40/100\n",
      "12/12 [==============================] - 0s 2ms/step - loss: 0.3995 - accuracy: 0.9076\n",
      "Epoch 41/100\n",
      "12/12 [==============================] - 0s 1ms/step - loss: 0.3961 - accuracy: 0.9076\n",
      "Epoch 42/100\n",
      "12/12 [==============================] - 0s 1ms/step - loss: 0.3930 - accuracy: 0.9328\n",
      "Epoch 43/100\n",
      "12/12 [==============================] - 0s 1ms/step - loss: 0.3874 - accuracy: 0.9328\n",
      "Epoch 44/100\n",
      "12/12 [==============================] - 0s 1ms/step - loss: 0.3836 - accuracy: 0.9328\n",
      "Epoch 45/100\n",
      "12/12 [==============================] - 0s 2ms/step - loss: 0.3792 - accuracy: 0.9328\n",
      "Epoch 46/100\n",
      "12/12 [==============================] - 0s 1ms/step - loss: 0.3756 - accuracy: 0.9496\n",
      "Epoch 47/100\n",
      "12/12 [==============================] - 0s 1ms/step - loss: 0.3719 - accuracy: 0.9496\n",
      "Epoch 48/100\n",
      "12/12 [==============================] - 0s 2ms/step - loss: 0.3676 - accuracy: 0.9496\n",
      "Epoch 49/100\n",
      "12/12 [==============================] - 0s 1ms/step - loss: 0.3639 - accuracy: 0.9496\n",
      "Epoch 50/100\n",
      "12/12 [==============================] - 0s 2ms/step - loss: 0.3604 - accuracy: 0.9496\n",
      "Epoch 51/100\n",
      "12/12 [==============================] - 0s 1ms/step - loss: 0.3565 - accuracy: 0.9496\n",
      "Epoch 52/100\n",
      "12/12 [==============================] - 0s 1ms/step - loss: 0.3544 - accuracy: 0.9328\n",
      "Epoch 53/100\n",
      "12/12 [==============================] - 0s 1ms/step - loss: 0.3486 - accuracy: 0.9412\n",
      "Epoch 54/100\n",
      "12/12 [==============================] - 0s 2ms/step - loss: 0.3451 - accuracy: 0.9580\n",
      "Epoch 55/100\n",
      "12/12 [==============================] - 0s 2ms/step - loss: 0.3415 - accuracy: 0.9580\n",
      "Epoch 56/100\n",
      "12/12 [==============================] - 0s 1ms/step - loss: 0.3381 - accuracy: 0.9580\n",
      "Epoch 57/100\n",
      "12/12 [==============================] - 0s 1ms/step - loss: 0.3346 - accuracy: 0.9580\n",
      "Epoch 58/100\n",
      "12/12 [==============================] - 0s 1ms/step - loss: 0.3320 - accuracy: 0.9496\n",
      "Epoch 59/100\n",
      "12/12 [==============================] - 0s 2ms/step - loss: 0.3281 - accuracy: 0.9580\n",
      "Epoch 60/100\n",
      "12/12 [==============================] - 0s 1ms/step - loss: 0.3253 - accuracy: 0.9580\n",
      "Epoch 61/100\n",
      "12/12 [==============================] - 0s 2ms/step - loss: 0.3212 - accuracy: 0.9664\n",
      "Epoch 62/100\n",
      "12/12 [==============================] - 0s 1ms/step - loss: 0.3181 - accuracy: 0.9580\n",
      "Epoch 63/100\n",
      "12/12 [==============================] - 0s 2ms/step - loss: 0.3143 - accuracy: 0.9580\n",
      "Epoch 64/100\n",
      "12/12 [==============================] - 0s 1ms/step - loss: 0.3113 - accuracy: 0.9580\n",
      "Epoch 65/100\n",
      "12/12 [==============================] - 0s 1ms/step - loss: 0.3083 - accuracy: 0.9580\n",
      "Epoch 66/100\n",
      "12/12 [==============================] - 0s 2ms/step - loss: 0.3057 - accuracy: 0.9580\n",
      "Epoch 67/100\n",
      "12/12 [==============================] - 0s 1ms/step - loss: 0.3030 - accuracy: 0.9664\n",
      "Epoch 68/100\n",
      "12/12 [==============================] - 0s 1ms/step - loss: 0.2990 - accuracy: 0.9580\n",
      "Epoch 69/100\n",
      "12/12 [==============================] - 0s 1ms/step - loss: 0.2966 - accuracy: 0.9580\n",
      "Epoch 70/100\n",
      "12/12 [==============================] - 0s 1ms/step - loss: 0.2936 - accuracy: 0.9664\n",
      "Epoch 71/100\n",
      "12/12 [==============================] - 0s 2ms/step - loss: 0.2903 - accuracy: 0.9580\n",
      "Epoch 72/100\n",
      "12/12 [==============================] - 0s 1ms/step - loss: 0.2872 - accuracy: 0.9664\n",
      "Epoch 73/100\n",
      "12/12 [==============================] - 0s 2ms/step - loss: 0.2851 - accuracy: 0.9580\n",
      "Epoch 74/100\n",
      "12/12 [==============================] - 0s 2ms/step - loss: 0.2822 - accuracy: 0.9664\n",
      "Epoch 75/100\n",
      "12/12 [==============================] - 0s 1ms/step - loss: 0.2790 - accuracy: 0.9748\n",
      "Epoch 76/100\n",
      "12/12 [==============================] - 0s 2ms/step - loss: 0.2764 - accuracy: 0.9748\n",
      "Epoch 77/100\n",
      "12/12 [==============================] - 0s 1ms/step - loss: 0.2739 - accuracy: 0.9748\n",
      "Epoch 78/100\n",
      "12/12 [==============================] - 0s 1ms/step - loss: 0.2713 - accuracy: 0.9580\n",
      "Epoch 79/100\n",
      "12/12 [==============================] - 0s 1ms/step - loss: 0.2687 - accuracy: 0.9580\n",
      "Epoch 80/100\n",
      "12/12 [==============================] - 0s 1ms/step - loss: 0.2658 - accuracy: 0.9748\n",
      "Epoch 81/100\n",
      "12/12 [==============================] - 0s 1ms/step - loss: 0.2639 - accuracy: 0.9748\n",
      "Epoch 82/100\n",
      "12/12 [==============================] - 0s 2ms/step - loss: 0.2606 - accuracy: 0.9748\n",
      "Epoch 83/100\n"
     ]
    },
    {
     "name": "stdout",
     "output_type": "stream",
     "text": [
      "12/12 [==============================] - 0s 1ms/step - loss: 0.2597 - accuracy: 0.9748\n",
      "Epoch 84/100\n",
      "12/12 [==============================] - 0s 2ms/step - loss: 0.2571 - accuracy: 0.9580\n",
      "Epoch 85/100\n",
      "12/12 [==============================] - 0s 1ms/step - loss: 0.2535 - accuracy: 0.9664\n",
      "Epoch 86/100\n",
      "12/12 [==============================] - 0s 1ms/step - loss: 0.2515 - accuracy: 0.9748\n",
      "Epoch 87/100\n",
      "12/12 [==============================] - 0s 1ms/step - loss: 0.2488 - accuracy: 0.9748\n",
      "Epoch 88/100\n",
      "12/12 [==============================] - 0s 1ms/step - loss: 0.2470 - accuracy: 0.9748\n",
      "Epoch 89/100\n",
      "12/12 [==============================] - 0s 1ms/step - loss: 0.2450 - accuracy: 0.9748\n",
      "Epoch 90/100\n",
      "12/12 [==============================] - 0s 2ms/step - loss: 0.2429 - accuracy: 0.9748\n",
      "Epoch 91/100\n",
      "12/12 [==============================] - 0s 1ms/step - loss: 0.2407 - accuracy: 0.9580\n",
      "Epoch 92/100\n",
      "12/12 [==============================] - 0s 1ms/step - loss: 0.2391 - accuracy: 0.9664\n",
      "Epoch 93/100\n",
      "12/12 [==============================] - 0s 1ms/step - loss: 0.2366 - accuracy: 0.9748\n",
      "Epoch 94/100\n",
      "12/12 [==============================] - 0s 1ms/step - loss: 0.2346 - accuracy: 0.9748\n",
      "Epoch 95/100\n",
      "12/12 [==============================] - 0s 2ms/step - loss: 0.2319 - accuracy: 0.9748\n",
      "Epoch 96/100\n",
      "12/12 [==============================] - 0s 1ms/step - loss: 0.2304 - accuracy: 0.9748\n",
      "Epoch 97/100\n",
      "12/12 [==============================] - 0s 2ms/step - loss: 0.2278 - accuracy: 0.9748\n",
      "Epoch 98/100\n",
      "12/12 [==============================] - 0s 1ms/step - loss: 0.2271 - accuracy: 0.9748\n",
      "Epoch 99/100\n",
      "12/12 [==============================] - 0s 1ms/step - loss: 0.2240 - accuracy: 0.9748\n",
      "Epoch 100/100\n",
      "12/12 [==============================] - 0s 2ms/step - loss: 0.2227 - accuracy: 0.9748\n"
     ]
    },
    {
     "data": {
      "text/plain": [
       "<keras.callbacks.History at 0x21c3097efa0>"
      ]
     },
     "execution_count": 7,
     "metadata": {},
     "output_type": "execute_result"
    }
   ],
   "source": [
    "model.fit(X_train, y_train, batch_size=10, epochs=100)"
   ]
  },
  {
   "cell_type": "code",
   "execution_count": 8,
   "metadata": {
    "colab": {},
    "colab_type": "code",
    "id": "_p6yilvas2kZ"
   },
   "outputs": [
    {
     "name": "stdout",
     "output_type": "stream",
     "text": [
      "1/1 [==============================] - 0s 76ms/step\n"
     ]
    }
   ],
   "source": [
    "y_pred = model.predict(X_test)\n",
    "y_test_class = np.argmax(y_test,axis=1)\n",
    "y_pred_class = np.argmax(y_pred,axis=1)"
   ]
  },
  {
   "cell_type": "code",
   "execution_count": 9,
   "metadata": {
    "colab": {
     "base_uri": "https://localhost:8080/",
     "height": 238
    },
    "colab_type": "code",
    "id": "WrgLET2Ns22J",
    "outputId": "a53a01f5-1119-4cc9-cad7-469eafb7a247"
   },
   "outputs": [
    {
     "name": "stdout",
     "output_type": "stream",
     "text": [
      "              precision    recall  f1-score   support\n",
      "\n",
      "           0       1.00      1.00      1.00        12\n",
      "           1       1.00      1.00      1.00        10\n",
      "           2       1.00      1.00      1.00         8\n",
      "\n",
      "    accuracy                           1.00        30\n",
      "   macro avg       1.00      1.00      1.00        30\n",
      "weighted avg       1.00      1.00      1.00        30\n",
      "\n",
      "[[12  0  0]\n",
      " [ 0 10  0]\n",
      " [ 0  0  8]]\n"
     ]
    }
   ],
   "source": [
    "from sklearn.metrics import classification_report,confusion_matrix\n",
    "print(classification_report(y_test_class,y_pred_class))\n",
    "print(confusion_matrix(y_test_class,y_pred_class))"
   ]
  },
  {
   "cell_type": "code",
   "execution_count": null,
   "metadata": {
    "colab": {},
    "colab_type": "code",
    "id": "2z0VjOco1zhs"
   },
   "outputs": [],
   "source": []
  }
 ],
 "metadata": {
  "colab": {
   "collapsed_sections": [],
   "name": "Multiple Classificaiton using IRIS Dataset.ipynb",
   "provenance": []
  },
  "kernelspec": {
   "display_name": "Python 3 (ipykernel)",
   "language": "python",
   "name": "python3"
  },
  "language_info": {
   "codemirror_mode": {
    "name": "ipython",
    "version": 3
   },
   "file_extension": ".py",
   "mimetype": "text/x-python",
   "name": "python",
   "nbconvert_exporter": "python",
   "pygments_lexer": "ipython3",
   "version": "3.9.7"
  }
 },
 "nbformat": 4,
 "nbformat_minor": 1
}
