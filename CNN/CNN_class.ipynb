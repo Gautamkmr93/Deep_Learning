{
 "cells": [
  {
   "cell_type": "code",
   "execution_count": 4,
   "id": "8d38effe",
   "metadata": {},
   "outputs": [],
   "source": [
    "import os\n",
    "import numpy as np\n",
    "import pandas as pd"
   ]
  },
  {
   "cell_type": "code",
   "execution_count": 5,
   "id": "4c408b66",
   "metadata": {},
   "outputs": [],
   "source": [
    "my_dir=r'C:\\Users\\gauta\\OneDrive\\Desktop\\class\\Deep Learning\\Code\\Deep_Learning\\CNN\\dataset'"
   ]
  },
  {
   "cell_type": "code",
   "execution_count": 6,
   "id": "05fc081d",
   "metadata": {},
   "outputs": [],
   "source": [
    "train_dir=os.path.join(my_dir,'train_set')\n",
    "test_dir=os.path.join(my_dir,'test_set')"
   ]
  },
  {
   "cell_type": "code",
   "execution_count": 10,
   "id": "8d2ed58a",
   "metadata": {},
   "outputs": [],
   "source": [
    "train_dir_cats=os.path.join(train_dir,'cats')\n",
    "train_dir_dogs=os.path.join(train_dir,'dogs')\n",
    "test_dir_cats=os.path.join(test_dir,'cats')\n",
    "test_dir_dogs=os.path.join(test_dir,'dogs')"
   ]
  },
  {
   "cell_type": "code",
   "execution_count": 11,
   "id": "ec4832b0",
   "metadata": {},
   "outputs": [
    {
     "name": "stdout",
     "output_type": "stream",
     "text": [
      "C:\\Users\\gauta\\OneDrive\\Desktop\\class\\Deep Learning\\Code\\Deep_Learning\\CNN\\dataset\\train_set\\cats\n",
      "C:\\Users\\gauta\\OneDrive\\Desktop\\class\\Deep Learning\\Code\\Deep_Learning\\CNN\\dataset\\train_set\\dogs\n",
      "C:\\Users\\gauta\\OneDrive\\Desktop\\class\\Deep Learning\\Code\\Deep_Learning\\CNN\\dataset\\test_set\\cats\n",
      "C:\\Users\\gauta\\OneDrive\\Desktop\\class\\Deep Learning\\Code\\Deep_Learning\\CNN\\dataset\\test_set\\dogs\n"
     ]
    }
   ],
   "source": [
    "print(train_dir_cats)\n",
    "print(train_dir_dogs)\n",
    "print(test_dir_cats)\n",
    "print(test_dir_dogs)"
   ]
  },
  {
   "cell_type": "code",
   "execution_count": 12,
   "id": "3a080a83",
   "metadata": {},
   "outputs": [],
   "source": [
    "#pip install keras"
   ]
  },
  {
   "cell_type": "code",
   "execution_count": 13,
   "id": "e78db8c6",
   "metadata": {},
   "outputs": [],
   "source": [
    "from keras.models import Sequential\n",
    "from keras.layers import Conv2D\n",
    "from keras.layers import MaxPool2D\n",
    "from keras.layers import Flatten\n",
    "from keras.layers import Dense"
   ]
  },
  {
   "cell_type": "code",
   "execution_count": 22,
   "id": "144d5832",
   "metadata": {},
   "outputs": [],
   "source": [
    "cnn_classifier=Sequential()\n",
    "\n",
    "#Step 1: Convolution\n",
    "cnn_classifier.add(Conv2D(32,3,3,input_shape=(64,64,3),activation='relu'))\n",
    "\n",
    "#step 2 pooling\n",
    "cnn_classifier.add(MaxPool2D(pool_size=(2,2)))\n",
    "\n",
    "cnn_classifier.add(Conv2D(16,3,3,activation='relu'))\n",
    "cnn_classifier.add(MaxPool2D(pool_size=(2,2)))\n",
    "                                        \n",
    "\n",
    "#step 3: flattering\n",
    "cnn_classifier.add(Flatten())\n",
    "\n",
    "#step 4: Full connection\n",
    "\n",
    "cnn_classifier.add(Dense(units=128,activation='relu'))\n",
    "cnn_classifier.add(Dense(units=1,activation='softmax'))"
   ]
  },
  {
   "cell_type": "code",
   "execution_count": 23,
   "id": "559c9532",
   "metadata": {},
   "outputs": [],
   "source": [
    "cnn_classifier.compile(optimizer='adam',loss='binary_crossentropy',metrics=['accuracy'])"
   ]
  },
  {
   "cell_type": "code",
   "execution_count": 24,
   "id": "016a3345",
   "metadata": {},
   "outputs": [
    {
     "name": "stdout",
     "output_type": "stream",
     "text": [
      "Found 8000 images belonging to 2 classes.\n",
      "Found 2000 images belonging to 2 classes.\n"
     ]
    }
   ],
   "source": [
    "from keras.preprocessing.image import ImageDataGenerator\n",
    "\n",
    "train_data = ImageDataGenerator(rescale = 1./255,\n",
    "                                   shear_range = 0.2,\n",
    "                                   zoom_range = 0.2,\n",
    "                                   horizontal_flip = True)\n",
    "\n",
    "test_data = ImageDataGenerator(rescale = 1./255)\n",
    "\n",
    "training_set = train_data.flow_from_directory('C:/Users/gauta/OneDrive/Desktop/class/Deep Learning/Code/Deep_Learning/CNN/dataset/training_set',\n",
    "                                                 target_size = (64, 64),\n",
    "                                                 batch_size = 32,\n",
    "                                                 class_mode = 'binary')\n",
    "\n",
    "test_set = test_data.flow_from_directory('C:/Users/gauta/OneDrive/Desktop/class/Deep Learning/Code/Deep_Learning/CNN/dataset/test_set',\n",
    "                                            target_size = (64, 64),\n",
    "                                            batch_size = 32,\n",
    "                                            class_mode = 'binary')\n"
   ]
  },
  {
   "cell_type": "code",
   "execution_count": 25,
   "id": "fc665c59",
   "metadata": {},
   "outputs": [
    {
     "name": "stdout",
     "output_type": "stream",
     "text": [
      "Epoch 1/10\n"
     ]
    },
    {
     "name": "stderr",
     "output_type": "stream",
     "text": [
      "C:\\Users\\gauta\\AppData\\Local\\Temp\\ipykernel_20700\\3578651864.py:1: UserWarning: `Model.fit_generator` is deprecated and will be removed in a future version. Please use `Model.fit`, which supports generators.\n",
      "  cnn_classifier.fit_generator(training_set,\n"
     ]
    },
    {
     "name": "stdout",
     "output_type": "stream",
     "text": [
      "100/100 [==============================] - ETA: 0s - loss: 0.6937 - accuracy: 0.4966WARNING:tensorflow:Your input ran out of data; interrupting training. Make sure that your dataset or generator can generate at least `steps_per_epoch * epochs` batches (in this case, 100 batches). You may need to use the repeat() function when building your dataset.\n",
      "100/100 [==============================] - 16s 154ms/step - loss: 0.6937 - accuracy: 0.4966 - val_loss: 0.6920 - val_accuracy: 0.5000\n",
      "Epoch 2/10\n",
      "100/100 [==============================] - 11s 110ms/step - loss: 0.6929 - accuracy: 0.4984\n",
      "Epoch 3/10\n",
      "100/100 [==============================] - 11s 111ms/step - loss: 0.6906 - accuracy: 0.5050\n",
      "Epoch 4/10\n",
      "100/100 [==============================] - 11s 110ms/step - loss: 0.6865 - accuracy: 0.5050\n",
      "Epoch 5/10\n",
      "100/100 [==============================] - 11s 114ms/step - loss: 0.6781 - accuracy: 0.4991\n",
      "Epoch 6/10\n",
      "100/100 [==============================] - 12s 116ms/step - loss: 0.6743 - accuracy: 0.4950\n",
      "Epoch 7/10\n",
      "100/100 [==============================] - 12s 119ms/step - loss: 0.6713 - accuracy: 0.4956\n",
      "Epoch 8/10\n",
      "100/100 [==============================] - 11s 110ms/step - loss: 0.6685 - accuracy: 0.4913\n",
      "Epoch 9/10\n",
      "100/100 [==============================] - 11s 110ms/step - loss: 0.6606 - accuracy: 0.4963\n",
      "Epoch 10/10\n",
      "100/100 [==============================] - 11s 110ms/step - loss: 0.6604 - accuracy: 0.5031\n"
     ]
    },
    {
     "data": {
      "text/plain": [
       "<keras.callbacks.History at 0x2262cbe1d00>"
      ]
     },
     "execution_count": 25,
     "metadata": {},
     "output_type": "execute_result"
    }
   ],
   "source": [
    "cnn_classifier.fit_generator(training_set,\n",
    "                         steps_per_epoch = 100,\n",
    "                         epochs = 10,\n",
    "                         validation_data = test_set,\n",
    "                         validation_steps = 100)"
   ]
  },
  {
   "cell_type": "code",
   "execution_count": 26,
   "id": "2d5d3302",
   "metadata": {},
   "outputs": [
    {
     "name": "stdout",
     "output_type": "stream",
     "text": [
      "1/1 [==============================] - 0s 97ms/step\n",
      "dog\n"
     ]
    }
   ],
   "source": [
    "#Prediction \n",
    "import numpy as np\n",
    "import keras\n",
    "test_image=keras.utils.load_img(r'C:\\Users\\gauta\\OneDrive\\Desktop\\class\\Deep Learning\\Code\\Deep_Learning\\CNN\\dataset\\single_prediction\\cat_or_dog_1.jpg',target_size=(64,64))\n",
    "test_image=keras.utils.img_to_array(test_image)\n",
    "test_image=np.expand_dims(test_image,axis=0)\n",
    "result=cnn_classifier.predict(test_image) #prediction of images\n",
    "training_set.class_indices\n",
    "if result[0][0]==1:\n",
    "    prediction='dog'\n",
    "else:\n",
    "    prediction='cat'\n",
    "print(prediction)"
   ]
  },
  {
   "cell_type": "code",
   "execution_count": 27,
   "id": "497260e1",
   "metadata": {},
   "outputs": [
    {
     "name": "stdout",
     "output_type": "stream",
     "text": [
      "1/1 [==============================] - 0s 23ms/step\n",
      "dog\n"
     ]
    }
   ],
   "source": [
    "import numpy as np\n",
    "import keras\n",
    "test_image=keras.utils.load_img(r'C:\\Users\\gauta\\OneDrive\\Desktop\\class\\Deep Learning\\Code\\Deep_Learning\\CNN\\dataset\\single_prediction\\cat_or_dog_2.jpg',target_size=(64,64))\n",
    "test_image=keras.utils.img_to_array(test_image)\n",
    "test_image=np.expand_dims(test_image,axis=0)\n",
    "result=cnn_classifier.predict(test_image) #prediction of images\n",
    "training_set.class_indices\n",
    "if result[0][0]==1:\n",
    "    prediction='dog'\n",
    "else:\n",
    "    prediction='cat'\n",
    "print(prediction)"
   ]
  },
  {
   "cell_type": "code",
   "execution_count": null,
   "id": "7bb0c1ec",
   "metadata": {},
   "outputs": [],
   "source": []
  }
 ],
 "metadata": {
  "kernelspec": {
   "display_name": "Python 3 (ipykernel)",
   "language": "python",
   "name": "python3"
  },
  "language_info": {
   "codemirror_mode": {
    "name": "ipython",
    "version": 3
   },
   "file_extension": ".py",
   "mimetype": "text/x-python",
   "name": "python",
   "nbconvert_exporter": "python",
   "pygments_lexer": "ipython3",
   "version": "3.9.7"
  }
 },
 "nbformat": 4,
 "nbformat_minor": 5
}
