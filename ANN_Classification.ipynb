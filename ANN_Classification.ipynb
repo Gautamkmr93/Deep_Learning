{
 "cells": [
  {
   "cell_type": "code",
   "execution_count": 1,
   "metadata": {},
   "outputs": [],
   "source": [
    "import pandas as pd\n",
    "import io\n",
    "import numpy as np\n",
    "import matplotlib.pyplot as plt"
   ]
  },
  {
   "cell_type": "code",
   "execution_count": 2,
   "metadata": {},
   "outputs": [],
   "source": [
    "data=pd.read_csv('data.csv')"
   ]
  },
  {
   "cell_type": "code",
   "execution_count": 3,
   "metadata": {
    "colab": {
     "base_uri": "https://localhost:8080/",
     "height": 313
    },
    "colab_type": "code",
    "id": "gccilFN06v5x",
    "outputId": "fb49299f-f096-45fe-d444-dd18516fff64"
   },
   "outputs": [
    {
     "name": "stdout",
     "output_type": "stream",
     "text": [
      "Benign 357\n",
      "Malignanat 212\n"
     ]
    },
    {
     "name": "stderr",
     "output_type": "stream",
     "text": [
      "C:\\Users\\gauta\\anaconda3\\lib\\site-packages\\seaborn\\_decorators.py:36: FutureWarning: Pass the following variable as a keyword arg: x. From version 0.12, the only valid positional argument will be `data`, and passing other arguments without an explicit keyword will result in an error or misinterpretation.\n",
      "  warnings.warn(\n"
     ]
    },
    {
     "data": {
      "image/png": "[encoded data removed]",
      "text/plain": [
       "<Figure size 432x288 with 1 Axes>"
      ]
     },
     "metadata": {
      "needs_background": "light"
     },
     "output_type": "display_data"
    }
   ],
   "source": [
    "import seaborn as sns\n",
    "ax = sns.countplot(data['diagnosis'], label= 'Count')\n",
    "B,M = data['diagnosis'].value_counts()\n",
    "print('Benign', B)\n",
    "print('Malignanat', M)"
   ]
  },
  {
   "cell_type": "code",
   "execution_count": 4,
   "metadata": {
    "colab": {},
    "colab_type": "code",
    "id": "XVCX3ELW6yJA"
   },
   "outputs": [],
   "source": [
    "# Importing data\n",
    "del data['Unnamed: 32']"
   ]
  },
  {
   "cell_type": "code",
   "execution_count": 5,
   "metadata": {
    "colab": {},
    "colab_type": "code",
    "id": "cB5fKA3u6ydw"
   },
   "outputs": [],
   "source": [
    "X = data.iloc[:, 2:].values\n",
    "y = data.iloc[:, 1].values\n",
    "\n",
    "# Encoding categorical data\n",
    "from sklearn.preprocessing import LabelEncoder\n",
    "labelencoder_X_1 = LabelEncoder()\n",
    "y = labelencoder_X_1.fit_transform(y)\n",
    "\n",
    "# Splitting the dataset into the Training set and Test set\n",
    "from sklearn.model_selection import train_test_split\n",
    "X_train, X_test, y_train, y_test = train_test_split(X, y, test_size = 0.2, random_state = 0)\n",
    "\n",
    "#Feature Scaling\n",
    "from sklearn.preprocessing import StandardScaler\n",
    "sc = StandardScaler()\n",
    "X_train = sc.fit_transform(X_train)\n",
    "X_test = sc.transform(X_test)"
   ]
  },
  {
   "cell_type": "code",
   "execution_count": 6,
   "metadata": {
    "colab": {
     "base_uri": "https://localhost:8080/",
     "height": 238
    },
    "colab_type": "code",
    "id": "ZpAVng9I6yjY",
    "outputId": "f62b0b0e-acc7-4da5-b75d-f4ed58b21ad5"
   },
   "outputs": [
    {
     "data": {
      "text/plain": [
       "array([[-1.15036482, -0.39064196, -1.12855021, ..., -0.75798367,\n",
       "        -0.01614761, -0.38503402],\n",
       "       [-0.93798972,  0.68051405, -0.94820146, ..., -0.60687023,\n",
       "         0.09669004, -0.38615797],\n",
       "       [ 0.574121  , -1.03333557,  0.51394098, ..., -0.02371948,\n",
       "        -0.20050207, -0.75144254],\n",
       "       ...,\n",
       "       [-1.32422924, -0.20048168, -1.31754581, ..., -0.97974953,\n",
       "        -0.71542314, -0.11978123],\n",
       "       [-1.24380987, -0.2245526 , -1.28007609, ..., -1.75401433,\n",
       "        -1.58157125, -1.00601779],\n",
       "       [-0.73694129,  1.14989702, -0.71226578, ..., -0.27460457,\n",
       "        -1.25895095,  0.21515662]])"
      ]
     },
     "execution_count": 6,
     "metadata": {},
     "output_type": "execute_result"
    }
   ],
   "source": [
    "X_train"
   ]
  },
  {
   "cell_type": "code",
   "execution_count": 7,
   "metadata": {
    "colab": {
     "base_uri": "https://localhost:8080/",
     "height": 238
    },
    "colab_type": "code",
    "id": "BItiguG56ypQ",
    "outputId": "9c81a0c9-8d4a-4eb2-a2f5-a512e4473c6c"
   },
   "outputs": [
    {
     "data": {
      "text/plain": [
       "array([[-0.20175604,  0.3290786 , -0.13086754, ...,  1.3893291 ,\n",
       "         1.08203284,  1.54029664],\n",
       "       [-0.25555773,  1.46763319, -0.31780437, ..., -0.83369364,\n",
       "        -0.73131577, -0.87732522],\n",
       "       [-0.02619262, -0.8407682 , -0.09175081, ..., -0.49483785,\n",
       "        -1.22080864, -0.92115937],\n",
       "       ...,\n",
       "       [ 1.71811488,  0.09318356,  1.7286186 , ...,  1.57630515,\n",
       "         0.20317063, -0.15406178],\n",
       "       [ 1.18859296,  0.34352115,  1.19333694, ...,  0.56019755,\n",
       "         0.26991966, -0.27320074],\n",
       "       [ 0.26263752, -0.58080224,  0.28459338, ..., -0.19383705,\n",
       "        -1.15564888,  0.11231497]])"
      ]
     },
     "execution_count": 7,
     "metadata": {},
     "output_type": "execute_result"
    }
   ],
   "source": [
    "X_test"
   ]
  },
  {
   "cell_type": "code",
   "execution_count": 8,
   "metadata": {
    "colab": {
     "base_uri": "https://localhost:8080/",
     "height": 80
    },
    "colab_type": "code",
    "id": "rk7mSVwL-TlI",
    "outputId": "b0cdce1e-8f71-459a-c987-b5a3b7da1fc0"
   },
   "outputs": [],
   "source": [
    "import keras\n",
    "from keras.models import Sequential\n",
    "from keras.layers import Dense"
   ]
  },
  {
   "cell_type": "code",
   "execution_count": 9,
   "metadata": {
    "colab": {
     "base_uri": "https://localhost:8080/",
     "height": 275
    },
    "colab_type": "code",
    "id": "UT8yTxdE-VBN",
    "outputId": "78a7b1cd-761f-41e5-b838-6269dc38d7a3"
   },
   "outputs": [],
   "source": [
    "#adding the input and first hidden layer\n",
    "classifier = Sequential()\n",
    "#adding the 1st hidden layer\n",
    "classifier.add(Dense(units = 16, kernel_initializer = 'uniform', activation = 'sigmoid', input_dim = 30))\n",
    "#adding the 2nd hidden layer\n",
    "classifier.add(Dense(units = 16, kernel_initializer = 'uniform', activation = 'sigmoid'))\n",
    "#adding the 3rd hidden layer\n",
    "classifier.add(Dense(units = 8, kernel_initializer = 'uniform', activation = 'sigmoid'))\n",
    "#adding the 4th hidden layer\n",
    "classifier.add(Dense(1,activation='sigmoid'))"
   ]
  },
  {
   "cell_type": "code",
   "execution_count": 10,
   "metadata": {
    "colab": {
     "base_uri": "https://localhost:8080/",
     "height": 156
    },
    "colab_type": "code",
    "id": "JSYz-acvpIf3",
    "outputId": "0ee814a3-72a3-47d3-bbd4-9475471b14bd"
   },
   "outputs": [],
   "source": [
    "classifier.compile(optimizer=\"Adam\", loss='binary_crossentropy', metrics=['accuracy'])"
   ]
  },
  {
   "cell_type": "code",
   "execution_count": 11,
   "metadata": {
    "colab": {
     "base_uri": "https://localhost:8080/",
     "height": 1000
    },
    "colab_type": "code",
    "id": "dP06VafNpJQ2",
    "outputId": "fb877dfb-9b23-4b01-e278-8b32709e122a"
   },
   "outputs": [
    {
     "name": "stdout",
     "output_type": "stream",
     "text": [
      "Epoch 1/150\n",
      "5/5 [==============================] - 1s 2ms/step - loss: 0.7920 - accuracy: 0.3626\n",
      "Epoch 2/150\n",
      "5/5 [==============================] - 0s 2ms/step - loss: 0.7758 - accuracy: 0.3626\n",
      "Epoch 3/150\n",
      "5/5 [==============================] - 0s 2ms/step - loss: 0.7603 - accuracy: 0.3626\n",
      "Epoch 4/150\n",
      "5/5 [==============================] - 0s 2ms/step - loss: 0.7464 - accuracy: 0.3626\n",
      "Epoch 5/150\n",
      "5/5 [==============================] - 0s 3ms/step - loss: 0.7328 - accuracy: 0.3626\n",
      "Epoch 6/150\n",
      "5/5 [==============================] - 0s 2ms/step - loss: 0.7207 - accuracy: 0.3626\n",
      "Epoch 7/150\n",
      "5/5 [==============================] - 0s 2ms/step - loss: 0.7080 - accuracy: 0.3626\n",
      "Epoch 8/150\n",
      "5/5 [==============================] - 0s 2ms/step - loss: 0.6974 - accuracy: 0.3626\n",
      "Epoch 9/150\n",
      "5/5 [==============================] - 0s 2ms/step - loss: 0.6867 - accuracy: 0.7055\n",
      "Epoch 10/150\n",
      "5/5 [==============================] - 0s 2ms/step - loss: 0.6773 - accuracy: 0.6374\n",
      "Epoch 11/150\n",
      "5/5 [==============================] - 0s 2ms/step - loss: 0.6679 - accuracy: 0.6374\n",
      "Epoch 12/150\n",
      "5/5 [==============================] - 0s 2ms/step - loss: 0.6597 - accuracy: 0.6374\n",
      "Epoch 13/150\n",
      "5/5 [==============================] - 0s 2ms/step - loss: 0.6515 - accuracy: 0.6374\n",
      "Epoch 14/150\n",
      "5/5 [==============================] - 0s 2ms/step - loss: 0.6445 - accuracy: 0.6374\n",
      "Epoch 15/150\n",
      "5/5 [==============================] - 0s 2ms/step - loss: 0.6385 - accuracy: 0.6374\n",
      "Epoch 16/150\n",
      "5/5 [==============================] - 0s 2ms/step - loss: 0.6329 - accuracy: 0.6374\n",
      "Epoch 17/150\n",
      "5/5 [==============================] - 0s 2ms/step - loss: 0.6281 - accuracy: 0.6374\n",
      "Epoch 18/150\n",
      "5/5 [==============================] - 0s 2ms/step - loss: 0.6233 - accuracy: 0.6374\n",
      "Epoch 19/150\n",
      "5/5 [==============================] - 0s 2ms/step - loss: 0.6195 - accuracy: 0.6374\n",
      "Epoch 20/150\n",
      "5/5 [==============================] - 0s 2ms/step - loss: 0.6159 - accuracy: 0.6374\n",
      "Epoch 21/150\n",
      "5/5 [==============================] - 0s 2ms/step - loss: 0.6128 - accuracy: 0.6374\n",
      "Epoch 22/150\n",
      "5/5 [==============================] - 0s 2ms/step - loss: 0.6101 - accuracy: 0.6374\n",
      "Epoch 23/150\n",
      "5/5 [==============================] - 0s 2ms/step - loss: 0.6075 - accuracy: 0.6374\n",
      "Epoch 24/150\n",
      "5/5 [==============================] - 0s 2ms/step - loss: 0.6049 - accuracy: 0.6374\n",
      "Epoch 25/150\n",
      "5/5 [==============================] - 0s 2ms/step - loss: 0.6027 - accuracy: 0.6374\n",
      "Epoch 26/150\n",
      "5/5 [==============================] - 0s 2ms/step - loss: 0.6004 - accuracy: 0.6374\n",
      "Epoch 27/150\n",
      "5/5 [==============================] - 0s 2ms/step - loss: 0.5983 - accuracy: 0.6374\n",
      "Epoch 28/150\n",
      "5/5 [==============================] - 0s 2ms/step - loss: 0.5963 - accuracy: 0.6374\n",
      "Epoch 29/150\n",
      "5/5 [==============================] - 0s 2ms/step - loss: 0.5943 - accuracy: 0.6374\n",
      "Epoch 30/150\n",
      "5/5 [==============================] - 0s 2ms/step - loss: 0.5923 - accuracy: 0.6374\n",
      "Epoch 31/150\n",
      "5/5 [==============================] - 0s 2ms/step - loss: 0.5904 - accuracy: 0.6374\n",
      "Epoch 32/150\n",
      "5/5 [==============================] - 0s 2ms/step - loss: 0.5885 - accuracy: 0.6374\n",
      "Epoch 33/150\n",
      "5/5 [==============================] - 0s 2ms/step - loss: 0.5866 - accuracy: 0.6374\n",
      "Epoch 34/150\n",
      "5/5 [==============================] - 0s 2ms/step - loss: 0.5848 - accuracy: 0.6374\n",
      "Epoch 35/150\n",
      "5/5 [==============================] - 0s 2ms/step - loss: 0.5830 - accuracy: 0.6374\n",
      "Epoch 36/150\n",
      "5/5 [==============================] - 0s 2ms/step - loss: 0.5812 - accuracy: 0.6374\n",
      "Epoch 37/150\n",
      "5/5 [==============================] - 0s 2ms/step - loss: 0.5794 - accuracy: 0.6374\n",
      "Epoch 38/150\n",
      "5/5 [==============================] - 0s 3ms/step - loss: 0.5776 - accuracy: 0.6374\n",
      "Epoch 39/150\n",
      "5/5 [==============================] - 0s 2ms/step - loss: 0.5758 - accuracy: 0.6374\n",
      "Epoch 40/150\n",
      "5/5 [==============================] - 0s 2ms/step - loss: 0.5741 - accuracy: 0.6374\n",
      "Epoch 41/150\n",
      "5/5 [==============================] - 0s 2ms/step - loss: 0.5723 - accuracy: 0.6374\n",
      "Epoch 42/150\n",
      "5/5 [==============================] - 0s 2ms/step - loss: 0.5705 - accuracy: 0.6374\n",
      "Epoch 43/150\n",
      "5/5 [==============================] - 0s 2ms/step - loss: 0.5687 - accuracy: 0.6374\n",
      "Epoch 44/150\n",
      "5/5 [==============================] - 0s 2ms/step - loss: 0.5670 - accuracy: 0.6374\n",
      "Epoch 45/150\n",
      "5/5 [==============================] - 0s 2ms/step - loss: 0.5652 - accuracy: 0.6374\n",
      "Epoch 46/150\n",
      "5/5 [==============================] - 0s 2ms/step - loss: 0.5635 - accuracy: 0.6374\n",
      "Epoch 47/150\n",
      "5/5 [==============================] - 0s 2ms/step - loss: 0.5617 - accuracy: 0.6374\n",
      "Epoch 48/150\n",
      "5/5 [==============================] - 0s 2ms/step - loss: 0.5599 - accuracy: 0.6374\n",
      "Epoch 49/150\n",
      "5/5 [==============================] - 0s 2ms/step - loss: 0.5581 - accuracy: 0.6374\n",
      "Epoch 50/150\n",
      "5/5 [==============================] - 0s 2ms/step - loss: 0.5564 - accuracy: 0.6374\n",
      "Epoch 51/150\n",
      "5/5 [==============================] - 0s 2ms/step - loss: 0.5546 - accuracy: 0.6374\n",
      "Epoch 52/150\n",
      "5/5 [==============================] - 0s 2ms/step - loss: 0.5528 - accuracy: 0.6374\n",
      "Epoch 53/150\n",
      "5/5 [==============================] - 0s 2ms/step - loss: 0.5510 - accuracy: 0.6374\n",
      "Epoch 54/150\n",
      "5/5 [==============================] - 0s 1ms/step - loss: 0.5491 - accuracy: 0.6374\n",
      "Epoch 55/150\n",
      "5/5 [==============================] - 0s 2ms/step - loss: 0.5473 - accuracy: 0.6374\n",
      "Epoch 56/150\n",
      "5/5 [==============================] - 0s 3ms/step - loss: 0.5455 - accuracy: 0.6374\n",
      "Epoch 57/150\n",
      "5/5 [==============================] - 0s 2ms/step - loss: 0.5436 - accuracy: 0.6374\n",
      "Epoch 58/150\n",
      "5/5 [==============================] - 0s 1ms/step - loss: 0.5417 - accuracy: 0.6374\n",
      "Epoch 59/150\n",
      "5/5 [==============================] - 0s 2ms/step - loss: 0.5399 - accuracy: 0.6374\n",
      "Epoch 60/150\n",
      "5/5 [==============================] - 0s 1ms/step - loss: 0.5381 - accuracy: 0.6374\n",
      "Epoch 61/150\n",
      "5/5 [==============================] - 0s 2ms/step - loss: 0.5361 - accuracy: 0.6374\n",
      "Epoch 62/150\n",
      "5/5 [==============================] - 0s 2ms/step - loss: 0.5342 - accuracy: 0.6374\n",
      "Epoch 63/150\n",
      "5/5 [==============================] - 0s 1ms/step - loss: 0.5323 - accuracy: 0.6374\n",
      "Epoch 64/150\n",
      "5/5 [==============================] - 0s 2ms/step - loss: 0.5304 - accuracy: 0.6374\n",
      "Epoch 65/150\n",
      "5/5 [==============================] - 0s 2ms/step - loss: 0.5284 - accuracy: 0.6374\n",
      "Epoch 66/150\n",
      "5/5 [==============================] - 0s 2ms/step - loss: 0.5265 - accuracy: 0.6374\n",
      "Epoch 67/150\n",
      "5/5 [==============================] - 0s 2ms/step - loss: 0.5245 - accuracy: 0.6374\n",
      "Epoch 68/150\n",
      "5/5 [==============================] - 0s 1ms/step - loss: 0.5225 - accuracy: 0.6374\n",
      "Epoch 69/150\n",
      "5/5 [==============================] - 0s 2ms/step - loss: 0.5205 - accuracy: 0.6374\n",
      "Epoch 70/150\n",
      "5/5 [==============================] - 0s 2ms/step - loss: 0.5185 - accuracy: 0.6374\n",
      "Epoch 71/150\n",
      "5/5 [==============================] - 0s 2ms/step - loss: 0.5164 - accuracy: 0.6374\n",
      "Epoch 72/150\n",
      "5/5 [==============================] - 0s 2ms/step - loss: 0.5144 - accuracy: 0.6374\n",
      "Epoch 73/150\n",
      "5/5 [==============================] - 0s 1ms/step - loss: 0.5123 - accuracy: 0.6374\n",
      "Epoch 74/150\n",
      "5/5 [==============================] - 0s 2ms/step - loss: 0.5102 - accuracy: 0.6374\n",
      "Epoch 75/150\n",
      "5/5 [==============================] - 0s 2ms/step - loss: 0.5081 - accuracy: 0.6374\n",
      "Epoch 76/150\n",
      "5/5 [==============================] - 0s 2ms/step - loss: 0.5060 - accuracy: 0.6374\n",
      "Epoch 77/150\n",
      "5/5 [==============================] - 0s 2ms/step - loss: 0.5038 - accuracy: 0.6374\n",
      "Epoch 78/150\n",
      "5/5 [==============================] - 0s 2ms/step - loss: 0.5017 - accuracy: 0.6374\n",
      "Epoch 79/150\n",
      "5/5 [==============================] - 0s 2ms/step - loss: 0.4995 - accuracy: 0.6374\n",
      "Epoch 80/150\n",
      "5/5 [==============================] - 0s 2ms/step - loss: 0.4973 - accuracy: 0.6374\n",
      "Epoch 81/150\n",
      "5/5 [==============================] - 0s 2ms/step - loss: 0.4950 - accuracy: 0.6374\n",
      "Epoch 82/150\n",
      "5/5 [==============================] - 0s 2ms/step - loss: 0.4928 - accuracy: 0.6374\n",
      "Epoch 83/150\n",
      "5/5 [==============================] - 0s 2ms/step - loss: 0.4906 - accuracy: 0.6374\n",
      "Epoch 84/150\n",
      "5/5 [==============================] - 0s 2ms/step - loss: 0.4882 - accuracy: 0.6374\n",
      "Epoch 85/150\n",
      "5/5 [==============================] - 0s 2ms/step - loss: 0.4859 - accuracy: 0.6374\n",
      "Epoch 86/150\n",
      "5/5 [==============================] - 0s 2ms/step - loss: 0.4836 - accuracy: 0.6374\n",
      "Epoch 87/150\n",
      "5/5 [==============================] - 0s 2ms/step - loss: 0.4813 - accuracy: 0.6374\n",
      "Epoch 88/150\n",
      "5/5 [==============================] - 0s 2ms/step - loss: 0.4789 - accuracy: 0.6374\n",
      "Epoch 89/150\n",
      "5/5 [==============================] - 0s 2ms/step - loss: 0.4765 - accuracy: 0.6374\n",
      "Epoch 90/150\n",
      "5/5 [==============================] - 0s 2ms/step - loss: 0.4741 - accuracy: 0.6374\n",
      "Epoch 91/150\n",
      "5/5 [==============================] - 0s 2ms/step - loss: 0.4717 - accuracy: 0.6374\n",
      "Epoch 92/150\n",
      "5/5 [==============================] - 0s 2ms/step - loss: 0.4692 - accuracy: 0.6374\n",
      "Epoch 93/150\n",
      "5/5 [==============================] - 0s 2ms/step - loss: 0.4667 - accuracy: 0.7187\n",
      "Epoch 94/150\n",
      "5/5 [==============================] - 0s 2ms/step - loss: 0.4643 - accuracy: 0.8418\n",
      "Epoch 95/150\n",
      "5/5 [==============================] - 0s 2ms/step - loss: 0.4618 - accuracy: 0.8703\n",
      "Epoch 96/150\n",
      "5/5 [==============================] - 0s 1ms/step - loss: 0.4592 - accuracy: 0.8857\n",
      "Epoch 97/150\n",
      "5/5 [==============================] - 0s 2ms/step - loss: 0.4567 - accuracy: 0.8945\n",
      "Epoch 98/150\n",
      "5/5 [==============================] - 0s 2ms/step - loss: 0.4542 - accuracy: 0.9055\n",
      "Epoch 99/150\n",
      "5/5 [==============================] - 0s 2ms/step - loss: 0.4515 - accuracy: 0.9121\n",
      "Epoch 100/150\n",
      "5/5 [==============================] - 0s 2ms/step - loss: 0.4489 - accuracy: 0.9121\n",
      "Epoch 101/150\n",
      "5/5 [==============================] - 0s 1ms/step - loss: 0.4463 - accuracy: 0.9143\n",
      "Epoch 102/150\n",
      "5/5 [==============================] - 0s 2ms/step - loss: 0.4437 - accuracy: 0.9165\n",
      "Epoch 103/150\n",
      "5/5 [==============================] - 0s 1ms/step - loss: 0.4410 - accuracy: 0.9165\n",
      "Epoch 104/150\n",
      "5/5 [==============================] - 0s 2ms/step - loss: 0.4384 - accuracy: 0.9231\n",
      "Epoch 105/150\n",
      "5/5 [==============================] - 0s 1ms/step - loss: 0.4357 - accuracy: 0.9253\n",
      "Epoch 106/150\n",
      "5/5 [==============================] - 0s 2ms/step - loss: 0.4330 - accuracy: 0.9297\n",
      "Epoch 107/150\n",
      "5/5 [==============================] - 0s 2ms/step - loss: 0.4302 - accuracy: 0.9319\n",
      "Epoch 108/150\n",
      "5/5 [==============================] - 0s 1ms/step - loss: 0.4275 - accuracy: 0.9341\n",
      "Epoch 109/150\n",
      "5/5 [==============================] - 0s 2ms/step - loss: 0.4248 - accuracy: 0.9385\n",
      "Epoch 110/150\n",
      "5/5 [==============================] - 0s 2ms/step - loss: 0.4220 - accuracy: 0.9385\n",
      "Epoch 111/150\n",
      "5/5 [==============================] - 0s 1ms/step - loss: 0.4192 - accuracy: 0.9385\n",
      "Epoch 112/150\n",
      "5/5 [==============================] - 0s 2ms/step - loss: 0.4164 - accuracy: 0.9407\n",
      "Epoch 113/150\n",
      "5/5 [==============================] - 0s 2ms/step - loss: 0.4136 - accuracy: 0.9429\n",
      "Epoch 114/150\n",
      "5/5 [==============================] - 0s 2ms/step - loss: 0.4107 - accuracy: 0.9451\n",
      "Epoch 115/150\n",
      "5/5 [==============================] - 0s 2ms/step - loss: 0.4079 - accuracy: 0.9473\n",
      "Epoch 116/150\n",
      "5/5 [==============================] - 0s 2ms/step - loss: 0.4051 - accuracy: 0.9473\n",
      "Epoch 117/150\n",
      "5/5 [==============================] - 0s 2ms/step - loss: 0.4022 - accuracy: 0.9495\n",
      "Epoch 118/150\n",
      "5/5 [==============================] - 0s 1ms/step - loss: 0.3993 - accuracy: 0.9495\n",
      "Epoch 119/150\n",
      "5/5 [==============================] - 0s 2ms/step - loss: 0.3964 - accuracy: 0.9516\n",
      "Epoch 120/150\n",
      "5/5 [==============================] - 0s 2ms/step - loss: 0.3935 - accuracy: 0.9538\n",
      "Epoch 121/150\n",
      "5/5 [==============================] - 0s 2ms/step - loss: 0.3906 - accuracy: 0.9560\n",
      "Epoch 122/150\n",
      "5/5 [==============================] - 0s 2ms/step - loss: 0.3877 - accuracy: 0.9560\n",
      "Epoch 123/150\n",
      "5/5 [==============================] - 0s 2ms/step - loss: 0.3848 - accuracy: 0.9582\n",
      "Epoch 124/150\n",
      "5/5 [==============================] - 0s 2ms/step - loss: 0.3819 - accuracy: 0.9648\n",
      "Epoch 125/150\n",
      "5/5 [==============================] - 0s 2ms/step - loss: 0.3789 - accuracy: 0.9648\n",
      "Epoch 126/150\n",
      "5/5 [==============================] - 0s 1ms/step - loss: 0.3760 - accuracy: 0.9648\n",
      "Epoch 127/150\n",
      "5/5 [==============================] - 0s 2ms/step - loss: 0.3730 - accuracy: 0.9648\n",
      "Epoch 128/150\n",
      "5/5 [==============================] - 0s 2ms/step - loss: 0.3701 - accuracy: 0.9648\n",
      "Epoch 129/150\n",
      "5/5 [==============================] - 0s 2ms/step - loss: 0.3671 - accuracy: 0.9670\n",
      "Epoch 130/150\n",
      "5/5 [==============================] - 0s 2ms/step - loss: 0.3642 - accuracy: 0.9670\n",
      "Epoch 131/150\n",
      "5/5 [==============================] - 0s 1ms/step - loss: 0.3612 - accuracy: 0.9670\n",
      "Epoch 132/150\n",
      "5/5 [==============================] - 0s 2ms/step - loss: 0.3583 - accuracy: 0.9670\n",
      "Epoch 133/150\n",
      "5/5 [==============================] - 0s 1ms/step - loss: 0.3553 - accuracy: 0.9692\n",
      "Epoch 134/150\n",
      "5/5 [==============================] - 0s 2ms/step - loss: 0.3523 - accuracy: 0.9692\n",
      "Epoch 135/150\n",
      "5/5 [==============================] - 0s 2ms/step - loss: 0.3494 - accuracy: 0.9692\n",
      "Epoch 136/150\n",
      "5/5 [==============================] - 0s 2ms/step - loss: 0.3464 - accuracy: 0.9692\n",
      "Epoch 137/150\n",
      "5/5 [==============================] - 0s 2ms/step - loss: 0.3435 - accuracy: 0.9692\n",
      "Epoch 138/150\n",
      "5/5 [==============================] - 0s 1ms/step - loss: 0.3406 - accuracy: 0.9692\n",
      "Epoch 139/150\n",
      "5/5 [==============================] - 0s 2ms/step - loss: 0.3375 - accuracy: 0.9692\n",
      "Epoch 140/150\n",
      "5/5 [==============================] - 0s 2ms/step - loss: 0.3347 - accuracy: 0.9692\n",
      "Epoch 141/150\n",
      "5/5 [==============================] - 0s 1ms/step - loss: 0.3318 - accuracy: 0.9692\n",
      "Epoch 142/150\n",
      "5/5 [==============================] - 0s 2ms/step - loss: 0.3288 - accuracy: 0.9692\n",
      "Epoch 143/150\n",
      "5/5 [==============================] - 0s 2ms/step - loss: 0.3259 - accuracy: 0.9692\n",
      "Epoch 144/150\n",
      "5/5 [==============================] - 0s 2ms/step - loss: 0.3230 - accuracy: 0.9692\n",
      "Epoch 145/150\n",
      "5/5 [==============================] - 0s 2ms/step - loss: 0.3201 - accuracy: 0.9692\n",
      "Epoch 146/150\n",
      "5/5 [==============================] - 0s 2ms/step - loss: 0.3172 - accuracy: 0.9736\n",
      "Epoch 147/150\n",
      "5/5 [==============================] - 0s 3ms/step - loss: 0.3144 - accuracy: 0.9736\n",
      "Epoch 148/150\n",
      "5/5 [==============================] - 0s 2ms/step - loss: 0.3115 - accuracy: 0.9736\n",
      "Epoch 149/150\n",
      "5/5 [==============================] - 0s 2ms/step - loss: 0.3086 - accuracy: 0.9714\n",
      "Epoch 150/150\n",
      "5/5 [==============================] - 0s 2ms/step - loss: 0.3058 - accuracy: 0.9714\n"
     ]
    },
    {
     "data": {
      "text/plain": [
       "<keras.callbacks.History at 0x2362b6e3a30>"
      ]
     },
     "execution_count": 11,
     "metadata": {},
     "output_type": "execute_result"
    }
   ],
   "source": [
    "classifier.fit(X_train, y_train, batch_size=100, epochs=150)"
   ]
  },
  {
   "cell_type": "code",
   "execution_count": 12,
   "metadata": {
    "colab": {
     "base_uri": "https://localhost:8080/",
     "height": 238
    },
    "colab_type": "code",
    "id": "zqwAnlLxqmfl",
    "outputId": "031431ea-a5f9-40f8-ba97-55f8378a5fd8"
   },
   "outputs": [
    {
     "data": {
      "text/plain": [
       "array([[-0.20175604,  0.3290786 , -0.13086754, ...,  1.3893291 ,\n",
       "         1.08203284,  1.54029664],\n",
       "       [-0.25555773,  1.46763319, -0.31780437, ..., -0.83369364,\n",
       "        -0.73131577, -0.87732522],\n",
       "       [-0.02619262, -0.8407682 , -0.09175081, ..., -0.49483785,\n",
       "        -1.22080864, -0.92115937],\n",
       "       ...,\n",
       "       [ 1.71811488,  0.09318356,  1.7286186 , ...,  1.57630515,\n",
       "         0.20317063, -0.15406178],\n",
       "       [ 1.18859296,  0.34352115,  1.19333694, ...,  0.56019755,\n",
       "         0.26991966, -0.27320074],\n",
       "       [ 0.26263752, -0.58080224,  0.28459338, ..., -0.19383705,\n",
       "        -1.15564888,  0.11231497]])"
      ]
     },
     "execution_count": 12,
     "metadata": {},
     "output_type": "execute_result"
    }
   ],
   "source": [
    "X_test"
   ]
  },
  {
   "cell_type": "code",
   "execution_count": 13,
   "metadata": {
    "colab": {},
    "colab_type": "code",
    "id": "mbZfCbJG6yua"
   },
   "outputs": [
    {
     "name": "stdout",
     "output_type": "stream",
     "text": [
      "4/4 [==============================] - 0s 1ms/step\n"
     ]
    }
   ],
   "source": [
    "# Predicting the Test set results\n",
    "y_pred = classifier.predict(X_test)\n",
    "y_pred = (y_pred > 0.5)"
   ]
  },
  {
   "cell_type": "code",
   "execution_count": 14,
   "metadata": {
    "colab": {},
    "colab_type": "code",
    "id": "Rm5zSOlp7BDP"
   },
   "outputs": [],
   "source": [
    "\n",
    "# Making the Confusion Matrix\n",
    "from sklearn.metrics import confusion_matrix\n",
    "cm = confusion_matrix(y_test, y_pred)"
   ]
  },
  {
   "cell_type": "code",
   "execution_count": 15,
   "metadata": {
    "colab": {
     "base_uri": "https://localhost:8080/",
     "height": 265
    },
    "colab_type": "code",
    "id": "IcNQu9q17NT_",
    "outputId": "44d5cf64-8e22-4b5f-c3a3-d6448f4812e0"
   },
   "outputs": [
    {
     "data": {
      "image/png": "[encoded data removed]",
      "text/plain": [
       "<Figure size 432x288 with 2 Axes>"
      ]
     },
     "metadata": {
      "needs_background": "light"
     },
     "output_type": "display_data"
    }
   ],
   "source": [
    "sns.heatmap(cm,annot=True)\n",
    "plt.savefig('h.png')\n"
   ]
  },
  {
   "cell_type": "code",
   "execution_count": null,
   "metadata": {
    "colab": {},
    "colab_type": "code",
    "id": "Uitf1DEJWLKt"
   },
   "outputs": [],
   "source": []
  }
 ],
 "metadata": {
  "accelerator": "TPU",
  "colab": {
   "collapsed_sections": [],
   "name": "Classification_ANN.ipynb",
   "provenance": []
  },
  "kernelspec": {
   "display_name": "Python 3 (ipykernel)",
   "language": "python",
   "name": "python3"
  },
  "language_info": {
   "codemirror_mode": {
    "name": "ipython",
    "version": 3
   },
   "file_extension": ".py",
   "mimetype": "text/x-python",
   "name": "python",
   "nbconvert_exporter": "python",
   "pygments_lexer": "ipython3",
   "version": "3.9.7"
  }
 },
 "nbformat": 4,
 "nbformat_minor": 1
}
