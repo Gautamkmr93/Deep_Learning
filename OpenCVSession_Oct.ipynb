{
 "cells": [
  {
   "cell_type": "code",
   "execution_count": 2,
   "id": "c07ed304",
   "metadata": {},
   "outputs": [],
   "source": [
    "#pip install opencv-python\n",
    "import cv2\n",
    "import numpy as np\n",
    "import pandas as pd"
   ]
  },
  {
   "cell_type": "code",
   "execution_count": 2,
   "id": "531df345",
   "metadata": {},
   "outputs": [],
   "source": [
    "img=cv2.imread('noidea.jpg')\n",
    "cv2.imshow('Images',img)\n",
    "cv2.waitKey(0)\n",
    "cv2.destroyAllWindows()"
   ]
  },
  {
   "cell_type": "code",
   "execution_count": 3,
   "id": "85bde13d",
   "metadata": {},
   "outputs": [
    {
     "name": "stdout",
     "output_type": "stream",
     "text": [
      "(414, 625)\n"
     ]
    }
   ],
   "source": [
    "img_grey=cv2.imread('noidea.jpg',0)\n",
    "img_rgb=cv2.imread('noidea.jpg',1)\n",
    "cv2.imshow('Images_grey',img_grey)\n",
    "cv2.waitKey(0)\n",
    "cv2.destroyAllWindows()\n",
    "print(img_grey.shape)"
   ]
  },
  {
   "cell_type": "code",
   "execution_count": 4,
   "id": "383e6824",
   "metadata": {},
   "outputs": [
    {
     "name": "stdout",
     "output_type": "stream",
     "text": [
      "[[131 131 131 ... 143 143 144]\n",
      " [132 131 131 ... 143 143 144]\n",
      " [132 132 132 ... 144 144 144]\n",
      " ...\n",
      " [175 174 175 ... 145  35  23]\n",
      " [173 171 171 ...  14  24  26]\n",
      " [170 167 168 ...  25  19  21]]\n"
     ]
    }
   ],
   "source": [
    "print(img_grey)"
   ]
  },
  {
   "cell_type": "code",
   "execution_count": 5,
   "id": "7aeda852",
   "metadata": {},
   "outputs": [],
   "source": [
    "img=cv2.imread('noidea.jpg')\n",
    "img=cv2.resize(img,(300,200))\n",
    "cv2.imshow('Original Images',img)\n",
    "cv2.waitKey(0)\n",
    "cv2.destroyAllWindows()"
   ]
  },
  {
   "cell_type": "code",
   "execution_count": 6,
   "id": "9734e3f7",
   "metadata": {},
   "outputs": [
    {
     "data": {
      "text/plain": [
       "(200, 300, 3)"
      ]
     },
     "execution_count": 6,
     "metadata": {},
     "output_type": "execute_result"
    }
   ],
   "source": [
    "img.shape"
   ]
  },
  {
   "cell_type": "code",
   "execution_count": 7,
   "id": "6047c546",
   "metadata": {},
   "outputs": [],
   "source": [
    "img=cv2.imread('noidea.jpg')\n",
    "img=cv2.resize(img,(300,200))\n",
    "img_2=np.hstack((img,img))\n",
    "cv2.imshow('Original Images',img_2)\n",
    "cv2.waitKey(0)\n",
    "cv2.destroyAllWindows()"
   ]
  },
  {
   "cell_type": "code",
   "execution_count": 8,
   "id": "a69234db",
   "metadata": {},
   "outputs": [],
   "source": [
    "img=cv2.imread('noidea.jpg')\n",
    "img=cv2.resize(img,(300,200))\n",
    "img_2=np.hstack((img,img))\n",
    "img_4=np.vstack((img_2,img_2))\n",
    "cv2.imshow('Original Images',img_4)\n",
    "cv2.waitKey(0)\n",
    "cv2.destroyAllWindows()"
   ]
  },
  {
   "cell_type": "markdown",
   "id": "bf65225d",
   "metadata": {},
   "source": [
    "# Video Workout"
   ]
  },
  {
   "cell_type": "code",
   "execution_count": 4,
   "id": "0fe11fad",
   "metadata": {},
   "outputs": [],
   "source": [
    "import cv2\n",
    "import numpy as np\n",
    "import pandas as pd\n",
    "video=cv2.VideoCapture('O Antava.mp4')\n",
    "while video.isOpened():\n",
    "    ret,frame=video.read()\n",
    "    if ret:\n",
    "        video1=cv2.resize(frame,(800,600))\n",
    "        cv2.imshow(\"Video Player\",video1)\n",
    "        \n",
    "        if cv2.waitKey(25) & 0xff==ord('q'):\n",
    "            break\n",
    "    else:\n",
    "        break\n",
    "video.release()\n",
    "cv2.destroyAllWindows()"
   ]
  },
  {
   "cell_type": "code",
   "execution_count": 5,
   "id": "38bc947a",
   "metadata": {},
   "outputs": [],
   "source": [
    "#import cv2\n",
    "#import numpy as np\n",
    "#import pandas as pd\n",
    "video=cv2.VideoCapture('O Antava.mp4')\n",
    "while video.isOpened():\n",
    "    ret,frame=video.read()\n",
    "    if ret:\n",
    "        video1=cv2.resize(frame,(400,300))\n",
    "        video2=np.hstack((video1,video1))\n",
    "        cv2.imshow(\"Video Player\",video2)\n",
    "        \n",
    "        if cv2.waitKey(25) & 0xff==ord('q'):\n",
    "            break\n",
    "    else:\n",
    "        break\n",
    "video.release()\n",
    "cv2.destroyAllWindows()"
   ]
  },
  {
   "cell_type": "code",
   "execution_count": 7,
   "id": "9194a353",
   "metadata": {},
   "outputs": [],
   "source": [
    "video=cv2.VideoCapture('Waka Waka.mp4')\n",
    "while video.isOpened():\n",
    "    ret,frame=video.read()\n",
    "    if ret:\n",
    "        video1=cv2.resize(frame,(400,300))\n",
    "        video2=np.hstack((video1,video1))\n",
    "        video4=np.vstack((video2,video2))\n",
    "        cv2.imshow(\"Video Player\",video4)\n",
    "        \n",
    "        if cv2.waitKey(25) & 0xff==ord('q'):\n",
    "            break\n",
    "    else:\n",
    "        break\n",
    "video.release()\n",
    "cv2.destroyAllWindows()"
   ]
  },
  {
   "cell_type": "markdown",
   "id": "0348e418",
   "metadata": {},
   "source": [
    "# System Camera"
   ]
  },
  {
   "cell_type": "code",
   "execution_count": 8,
   "id": "f191e7df",
   "metadata": {},
   "outputs": [],
   "source": [
    "video=cv2.VideoCapture(0)\n",
    "while video.isOpened():\n",
    "    ret,frame=video.read()\n",
    "    if ret:\n",
    "        video1=cv2.resize(frame,(400,300))\n",
    "        #video2=np.hstack((video1,video1))\n",
    "        #video4=np.vstack((video2,video2))\n",
    "        cv2.imshow(\"Video Player\",video1)\n",
    "        \n",
    "        if cv2.waitKey(25) & 0xff==ord('q'):\n",
    "            break\n",
    "    else:\n",
    "        break\n",
    "video.release()\n",
    "cv2.destroyAllWindows()"
   ]
  },
  {
   "cell_type": "code",
   "execution_count": 9,
   "id": "d58502d5",
   "metadata": {},
   "outputs": [],
   "source": [
    "video=cv2.VideoCapture(0)\n",
    "while video.isOpened():\n",
    "    ret,frame=video.read()\n",
    "    if ret:\n",
    "        video1=cv2.resize(frame,(400,300))\n",
    "        video2=np.hstack((video1,video1))\n",
    "        video4=np.vstack((video2,video2))\n",
    "        cv2.imshow(\"Video Player\",video4)\n",
    "        \n",
    "        if cv2.waitKey(25) & 0xff==ord('q'):\n",
    "            break\n",
    "    else:\n",
    "        break\n",
    "video.release()\n",
    "cv2.destroyAllWindows()"
   ]
  },
  {
   "cell_type": "code",
   "execution_count": 3,
   "id": "7208d62d",
   "metadata": {},
   "outputs": [],
   "source": [
    "camera_view=cv2.VideoCapture(0)\n",
    "video=cv2.VideoCapture(\"Waka Waka.mp4\")\n",
    "video2=cv2.VideoCapture('Champion (Official Song).mp4')\n",
    "#video3=cv2.imread('noidea.jpg')\n",
    "while camera_view.isOpened():\n",
    "    ret1,frame1=camera_view.read()\n",
    "    ret2,frame2=video.read()\n",
    "    ret3,frame3=video2.read()\n",
    "    if ret1:\n",
    "        frame1=cv2.resize(frame1,(400,200))\n",
    "        frame2=cv2.resize(frame2,(400,200))\n",
    "        frame3=cv2.resize(frame3,(400,200))\n",
    "        img=cv2.imread('noidea.jpg')\n",
    "        img=cv2.resize(img,(400,00))\n",
    "        \n",
    "        frame_2=np.hstack((frame1,frame2))\n",
    "        frame_22=np.hstack((frame3,img))\n",
    "        frame_4=np.vstack((frame_2,frame_22))\n",
    "        cv2.imshow(\"Video Player\",frame_4)\n",
    "        \n",
    "        if cv2.waitKey(25) & 0xff==ord('q'):\n",
    "            break\n",
    "    else:\n",
    "        break\n",
    "camera_view.release()\n",
    "cv2.destroyAllWindows()"
   ]
  },
  {
   "cell_type": "code",
   "execution_count": 12,
   "id": "7d9be32f",
   "metadata": {},
   "outputs": [
    {
     "name": "stdout",
     "output_type": "stream",
     "text": [
      "img has been saved at video_to_img\\img1.jpeg\n",
      "img has been saved at video_to_img\\img2.jpeg\n",
      "img has been saved at video_to_img\\img3.jpeg\n",
      "img has been saved at video_to_img\\img4.jpeg\n",
      "img has been saved at video_to_img\\img5.jpeg\n",
      "img has been saved at video_to_img\\img6.jpeg\n",
      "img has been saved at video_to_img\\img7.jpeg\n",
      "img has been saved at video_to_img\\img8.jpeg\n",
      "img has been saved at video_to_img\\img9.jpeg\n",
      "img has been saved at video_to_img\\img10.jpeg\n",
      "img has been saved at video_to_img\\img11.jpeg\n",
      "img has been saved at video_to_img\\img12.jpeg\n",
      "img has been saved at video_to_img\\img13.jpeg\n",
      "img has been saved at video_to_img\\img14.jpeg\n",
      "img has been saved at video_to_img\\img15.jpeg\n",
      "img has been saved at video_to_img\\img16.jpeg\n",
      "img has been saved at video_to_img\\img17.jpeg\n",
      "img has been saved at video_to_img\\img18.jpeg\n",
      "img has been saved at video_to_img\\img19.jpeg\n",
      "img has been saved at video_to_img\\img20.jpeg\n",
      "img has been saved at video_to_img\\img21.jpeg\n",
      "img has been saved at video_to_img\\img22.jpeg\n",
      "img has been saved at video_to_img\\img23.jpeg\n",
      "img has been saved at video_to_img\\img24.jpeg\n",
      "img has been saved at video_to_img\\img25.jpeg\n",
      "img has been saved at video_to_img\\img26.jpeg\n",
      "img has been saved at video_to_img\\img27.jpeg\n",
      "img has been saved at video_to_img\\img28.jpeg\n",
      "img has been saved at video_to_img\\img29.jpeg\n",
      "img has been saved at video_to_img\\img30.jpeg\n"
     ]
    }
   ],
   "source": [
    "import os\n",
    "os.mkdir(\"video_to_img\")\n",
    "video=cv2.VideoCapture('Waka Waka.mp4')\n",
    "img_count=1\n",
    "\n",
    "while video.isOpened():\n",
    "    ret,frame=video.read()\n",
    "    \n",
    "    if not ret:\n",
    "        print(\"no frames available\")\n",
    "        break\n",
    "    is_img_write=cv2.imwrite(f\"video_to_img\\img{img_count}.jpeg\",frame)\n",
    "    \n",
    "    if is_img_write:\n",
    "        print(f'img has been saved at video_to_img\\img{img_count}.jpeg')\n",
    "    cv2.imshow(\"video\",frame)\n",
    "    \n",
    "    cv2.waitKey(25) & 0xff==ord('q')\n",
    "    img_count +=1\n",
    "    \n",
    "    if img_count>30:\n",
    "        break\n",
    "    \n",
    "video.release()\n",
    "cv2.destroyAllWindows()"
   ]
  },
  {
   "cell_type": "code",
   "execution_count": null,
   "id": "90040729",
   "metadata": {},
   "outputs": [],
   "source": []
  }
 ],
 "metadata": {
  "kernelspec": {
   "display_name": "Python 3 (ipykernel)",
   "language": "python",
   "name": "python3"
  },
  "language_info": {
   "codemirror_mode": {
    "name": "ipython",
    "version": 3
   },
   "file_extension": ".py",
   "mimetype": "text/x-python",
   "name": "python",
   "nbconvert_exporter": "python",
   "pygments_lexer": "ipython3",
   "version": "3.9.7"
  }
 },
 "nbformat": 4,
 "nbformat_minor": 5
}
