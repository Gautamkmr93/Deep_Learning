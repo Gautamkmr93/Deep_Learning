{
 "cells": [
  {
   "cell_type": "code",
   "execution_count": 1,
   "metadata": {
    "colab": {},
    "colab_type": "code",
    "id": "p7hv79aFsoXl"
   },
   "outputs": [],
   "source": [
    "import keras\n",
    "from keras.models import Sequential\n",
    "from keras.layers import Dense\n",
    "from keras.optimizers import Adam\n",
    "import pydot\n",
    "import graphviz\n",
    "from IPython.display import SVG\n",
    "from keras.utils.vis_utils import model_to_dot\n",
    "from keras.utils import plot_model\n",
    "import seaborn as sns\n",
    "import pandas as pd\n",
    "import numpy as np"
   ]
  },
  {
   "cell_type": "code",
   "execution_count": 2,
   "metadata": {
    "colab": {
     "base_uri": "https://localhost:8080/",
     "height": 419
    },
    "colab_type": "code",
    "id": "Vj1-yeLwsoe3",
    "outputId": "b17ae425-168b-448f-9967-2b76b5c34532"
   },
   "outputs": [
    {
     "data": {
      "text/html": [
       "<div>\n",
       "<style scoped>\n",
       "    .dataframe tbody tr th:only-of-type {\n",
       "        vertical-align: middle;\n",
       "    }\n",
       "\n",
       "    .dataframe tbody tr th {\n",
       "        vertical-align: top;\n",
       "    }\n",
       "\n",
       "    .dataframe thead th {\n",
       "        text-align: right;\n",
       "    }\n",
       "</style>\n",
       "<table border=\"1\" class=\"dataframe\">\n",
       "  <thead>\n",
       "    <tr style=\"text-align: right;\">\n",
       "      <th></th>\n",
       "      <th>5.1</th>\n",
       "      <th>3.5</th>\n",
       "      <th>1.4</th>\n",
       "      <th>0.2</th>\n",
       "      <th>Iris-setosa</th>\n",
       "    </tr>\n",
       "  </thead>\n",
       "  <tbody>\n",
       "    <tr>\n",
       "      <th>0</th>\n",
       "      <td>4.9</td>\n",
       "      <td>3.0</td>\n",
       "      <td>1.4</td>\n",
       "      <td>0.2</td>\n",
       "      <td>Iris-setosa</td>\n",
       "    </tr>\n",
       "    <tr>\n",
       "      <th>1</th>\n",
       "      <td>4.7</td>\n",
       "      <td>3.2</td>\n",
       "      <td>1.3</td>\n",
       "      <td>0.2</td>\n",
       "      <td>Iris-setosa</td>\n",
       "    </tr>\n",
       "    <tr>\n",
       "      <th>2</th>\n",
       "      <td>4.6</td>\n",
       "      <td>3.1</td>\n",
       "      <td>1.5</td>\n",
       "      <td>0.2</td>\n",
       "      <td>Iris-setosa</td>\n",
       "    </tr>\n",
       "    <tr>\n",
       "      <th>3</th>\n",
       "      <td>5.0</td>\n",
       "      <td>3.6</td>\n",
       "      <td>1.4</td>\n",
       "      <td>0.2</td>\n",
       "      <td>Iris-setosa</td>\n",
       "    </tr>\n",
       "    <tr>\n",
       "      <th>4</th>\n",
       "      <td>5.4</td>\n",
       "      <td>3.9</td>\n",
       "      <td>1.7</td>\n",
       "      <td>0.4</td>\n",
       "      <td>Iris-setosa</td>\n",
       "    </tr>\n",
       "  </tbody>\n",
       "</table>\n",
       "</div>"
      ],
      "text/plain": [
       "   5.1  3.5  1.4  0.2  Iris-setosa\n",
       "0  4.9  3.0  1.4  0.2  Iris-setosa\n",
       "1  4.7  3.2  1.3  0.2  Iris-setosa\n",
       "2  4.6  3.1  1.5  0.2  Iris-setosa\n",
       "3  5.0  3.6  1.4  0.2  Iris-setosa\n",
       "4  5.4  3.9  1.7  0.4  Iris-setosa"
      ]
     },
     "execution_count": 2,
     "metadata": {},
     "output_type": "execute_result"
    }
   ],
   "source": [
    "dataset = pd.read_csv(\"iris_data.csv\")\n",
    "dataset.head()"
   ]
  },
  {
   "cell_type": "code",
   "execution_count": 3,
   "metadata": {
    "colab": {},
    "colab_type": "code",
    "id": "moC7ISYDsoku"
   },
   "outputs": [],
   "source": [
    "X = dataset.iloc[:,0:4].values\n",
    "y = dataset.iloc[:,4].values\n",
    "\n",
    "from sklearn.preprocessing import LabelEncoder\n",
    "encoder =  LabelEncoder()\n",
    "y1 = encoder.fit_transform(y)\n",
    "Y = pd.get_dummies(y1).values\n",
    "\n",
    "from sklearn.model_selection import train_test_split\n",
    "X_train,X_test, y_train,y_test = train_test_split(X,Y,test_size=0.2,random_state=0)"
   ]
  },
  {
   "cell_type": "code",
   "execution_count": 4,
   "metadata": {
    "colab": {
     "base_uri": "https://localhost:8080/",
     "height": 136
    },
    "colab_type": "code",
    "id": "yq9RfsdUwR5U",
    "outputId": "8ac35a75-4b6e-4e24-deba-628d56155738"
   },
   "outputs": [
    {
     "data": {
      "text/plain": [
       "array([0, 0, 0, 0, 0, 0, 0, 0, 0, 0, 0, 0, 0, 0, 0, 0, 0, 0, 0, 0, 0, 0,\n",
       "       0, 0, 0, 0, 0, 0, 0, 0, 0, 0, 0, 0, 0, 0, 0, 0, 0, 0, 0, 0, 0, 0,\n",
       "       0, 0, 0, 0, 0, 1, 1, 1, 1, 1, 1, 1, 1, 1, 1, 1, 1, 1, 1, 1, 1, 1,\n",
       "       1, 1, 1, 1, 1, 1, 1, 1, 1, 1, 1, 1, 1, 1, 1, 1, 1, 1, 1, 1, 1, 1,\n",
       "       1, 1, 1, 1, 1, 1, 1, 1, 1, 1, 1, 2, 2, 2, 2, 2, 2, 2, 2, 2, 2, 2,\n",
       "       2, 2, 2, 2, 2, 2, 2, 2, 2, 2, 2, 2, 2, 2, 2, 2, 2, 2, 2, 2, 2, 2,\n",
       "       2, 2, 2, 2, 2, 2, 2, 2, 2, 2, 2, 2, 2, 2, 2, 2, 2])"
      ]
     },
     "execution_count": 4,
     "metadata": {},
     "output_type": "execute_result"
    }
   ],
   "source": [
    "y1"
   ]
  },
  {
   "cell_type": "code",
   "execution_count": 5,
   "metadata": {
    "colab": {
     "base_uri": "https://localhost:8080/",
     "height": 231
    },
    "colab_type": "code",
    "id": "KZ8X63HVswnh",
    "outputId": "fe05700f-99cd-4231-ba24-0261fa6a5bc7"
   },
   "outputs": [],
   "source": [
    "model = Sequential()\n",
    "model.add(Dense(4,input_shape=(4,), activation='relu'))\n",
    "model.add(Dense(3, activation='softmax'))"
   ]
  },
  {
   "cell_type": "code",
   "execution_count": 6,
   "metadata": {
    "colab": {
     "base_uri": "https://localhost:8080/",
     "height": 163
    },
    "colab_type": "code",
    "id": "6QDB8sznsw1h",
    "outputId": "ca4de29f-c8a7-4a76-9c73-3b4be114e3ec"
   },
   "outputs": [],
   "source": [
    "model.compile(optimizer=\"Adam\", loss='categorical_crossentropy', metrics=['accuracy'])"
   ]
  },
  {
   "cell_type": "code",
   "execution_count": 7,
   "metadata": {
    "colab": {
     "base_uri": "https://localhost:8080/",
     "height": 1000
    },
    "colab_type": "code",
    "id": "Rs1GTTaTsxCQ",
    "outputId": "17727603-8120-4350-f8ea-e02e22855429"
   },
   "outputs": [
    {
     "name": "stdout",
     "output_type": "stream",
     "text": [
      "Epoch 1/100\n",
      "12/12 [==============================] - 0s 1ms/step - loss: 1.3562 - accuracy: 0.3529\n",
      "Epoch 2/100\n",
      "12/12 [==============================] - 0s 2ms/step - loss: 1.2890 - accuracy: 0.3529\n",
      "Epoch 3/100\n",
      "12/12 [==============================] - 0s 1ms/step - loss: 1.2340 - accuracy: 0.3529\n",
      "Epoch 4/100\n",
      "12/12 [==============================] - 0s 1ms/step - loss: 1.1840 - accuracy: 0.3529\n",
      "Epoch 5/100\n",
      "12/12 [==============================] - 0s 1ms/step - loss: 1.1445 - accuracy: 0.3529\n",
      "Epoch 6/100\n",
      "12/12 [==============================] - 0s 1ms/step - loss: 1.1089 - accuracy: 0.3529\n",
      "Epoch 7/100\n",
      "12/12 [==============================] - 0s 1ms/step - loss: 1.0819 - accuracy: 0.3529\n",
      "Epoch 8/100\n",
      "12/12 [==============================] - 0s 1ms/step - loss: 1.0596 - accuracy: 0.3529\n",
      "Epoch 9/100\n",
      "12/12 [==============================] - 0s 1ms/step - loss: 1.0390 - accuracy: 0.3529\n",
      "Epoch 10/100\n",
      "12/12 [==============================] - 0s 1ms/step - loss: 1.0241 - accuracy: 0.3529\n",
      "Epoch 11/100\n",
      "12/12 [==============================] - 0s 1ms/step - loss: 1.0095 - accuracy: 0.3529\n",
      "Epoch 12/100\n",
      "12/12 [==============================] - 0s 1ms/step - loss: 0.9986 - accuracy: 0.3529\n",
      "Epoch 13/100\n",
      "12/12 [==============================] - 0s 1ms/step - loss: 0.9888 - accuracy: 0.3529\n",
      "Epoch 14/100\n",
      "12/12 [==============================] - 0s 1ms/step - loss: 0.9788 - accuracy: 0.3529\n",
      "Epoch 15/100\n",
      "12/12 [==============================] - 0s 1ms/step - loss: 0.9707 - accuracy: 0.3529\n",
      "Epoch 16/100\n",
      "12/12 [==============================] - 0s 1ms/step - loss: 0.9628 - accuracy: 0.3529\n",
      "Epoch 17/100\n",
      "12/12 [==============================] - 0s 2ms/step - loss: 0.9555 - accuracy: 0.3529\n",
      "Epoch 18/100\n",
      "12/12 [==============================] - 0s 1ms/step - loss: 0.9484 - accuracy: 0.3529\n",
      "Epoch 19/100\n",
      "12/12 [==============================] - 0s 1ms/step - loss: 0.9417 - accuracy: 0.3529\n",
      "Epoch 20/100\n",
      "12/12 [==============================] - 0s 2ms/step - loss: 0.9352 - accuracy: 0.3529\n",
      "Epoch 21/100\n",
      "12/12 [==============================] - 0s 1ms/step - loss: 0.9285 - accuracy: 0.3529\n",
      "Epoch 22/100\n",
      "12/12 [==============================] - 0s 1ms/step - loss: 0.9216 - accuracy: 0.3529\n",
      "Epoch 23/100\n",
      "12/12 [==============================] - 0s 1ms/step - loss: 0.9147 - accuracy: 0.3613\n",
      "Epoch 24/100\n",
      "12/12 [==============================] - 0s 2ms/step - loss: 0.9085 - accuracy: 0.3782\n",
      "Epoch 25/100\n",
      "12/12 [==============================] - 0s 1ms/step - loss: 0.9012 - accuracy: 0.4370\n",
      "Epoch 26/100\n",
      "12/12 [==============================] - 0s 1ms/step - loss: 0.8950 - accuracy: 0.5378\n",
      "Epoch 27/100\n",
      "12/12 [==============================] - 0s 2ms/step - loss: 0.8874 - accuracy: 0.5882\n",
      "Epoch 28/100\n",
      "12/12 [==============================] - 0s 2ms/step - loss: 0.8800 - accuracy: 0.6134\n",
      "Epoch 29/100\n",
      "12/12 [==============================] - 0s 1ms/step - loss: 0.8731 - accuracy: 0.6387\n",
      "Epoch 30/100\n",
      "12/12 [==============================] - 0s 2ms/step - loss: 0.8652 - accuracy: 0.6555\n",
      "Epoch 31/100\n",
      "12/12 [==============================] - 0s 1ms/step - loss: 0.8579 - accuracy: 0.6555\n",
      "Epoch 32/100\n",
      "12/12 [==============================] - 0s 1ms/step - loss: 0.8506 - accuracy: 0.6639\n",
      "Epoch 33/100\n",
      "12/12 [==============================] - 0s 2ms/step - loss: 0.8440 - accuracy: 0.6639\n",
      "Epoch 34/100\n",
      "12/12 [==============================] - 0s 1ms/step - loss: 0.8375 - accuracy: 0.6639\n",
      "Epoch 35/100\n",
      "12/12 [==============================] - 0s 1ms/step - loss: 0.8314 - accuracy: 0.6639\n",
      "Epoch 36/100\n",
      "12/12 [==============================] - 0s 1ms/step - loss: 0.8253 - accuracy: 0.6639\n",
      "Epoch 37/100\n",
      "12/12 [==============================] - 0s 1ms/step - loss: 0.8196 - accuracy: 0.6639\n",
      "Epoch 38/100\n",
      "12/12 [==============================] - 0s 2ms/step - loss: 0.8141 - accuracy: 0.6639\n",
      "Epoch 39/100\n",
      "12/12 [==============================] - 0s 1ms/step - loss: 0.8088 - accuracy: 0.6639\n",
      "Epoch 40/100\n",
      "12/12 [==============================] - 0s 3ms/step - loss: 0.8035 - accuracy: 0.6639\n",
      "Epoch 41/100\n",
      "12/12 [==============================] - 0s 1ms/step - loss: 0.7986 - accuracy: 0.6639\n",
      "Epoch 42/100\n",
      "12/12 [==============================] - 0s 1ms/step - loss: 0.7935 - accuracy: 0.6639\n",
      "Epoch 43/100\n",
      "12/12 [==============================] - 0s 1ms/step - loss: 0.7887 - accuracy: 0.6639\n",
      "Epoch 44/100\n",
      "12/12 [==============================] - 0s 2ms/step - loss: 0.7839 - accuracy: 0.6639\n",
      "Epoch 45/100\n",
      "12/12 [==============================] - 0s 1ms/step - loss: 0.7794 - accuracy: 0.6639\n",
      "Epoch 46/100\n",
      "12/12 [==============================] - 0s 1ms/step - loss: 0.7751 - accuracy: 0.6639\n",
      "Epoch 47/100\n",
      "12/12 [==============================] - 0s 1ms/step - loss: 0.7701 - accuracy: 0.6639\n",
      "Epoch 48/100\n",
      "12/12 [==============================] - 0s 1ms/step - loss: 0.7658 - accuracy: 0.6639\n",
      "Epoch 49/100\n",
      "12/12 [==============================] - 0s 1ms/step - loss: 0.7613 - accuracy: 0.6639\n",
      "Epoch 50/100\n",
      "12/12 [==============================] - 0s 2ms/step - loss: 0.7569 - accuracy: 0.6639\n",
      "Epoch 51/100\n",
      "12/12 [==============================] - 0s 1ms/step - loss: 0.7526 - accuracy: 0.6639\n",
      "Epoch 52/100\n",
      "12/12 [==============================] - 0s 1ms/step - loss: 0.7485 - accuracy: 0.6639\n",
      "Epoch 53/100\n",
      "12/12 [==============================] - 0s 1ms/step - loss: 0.7445 - accuracy: 0.6639\n",
      "Epoch 54/100\n",
      "12/12 [==============================] - 0s 1ms/step - loss: 0.7406 - accuracy: 0.6639\n",
      "Epoch 55/100\n",
      "12/12 [==============================] - 0s 1ms/step - loss: 0.7365 - accuracy: 0.6639\n",
      "Epoch 56/100\n",
      "12/12 [==============================] - 0s 1ms/step - loss: 0.7326 - accuracy: 0.6639\n",
      "Epoch 57/100\n",
      "12/12 [==============================] - 0s 2ms/step - loss: 0.7291 - accuracy: 0.6639\n",
      "Epoch 58/100\n",
      "12/12 [==============================] - 0s 1ms/step - loss: 0.7250 - accuracy: 0.6639\n",
      "Epoch 59/100\n",
      "12/12 [==============================] - 0s 1ms/step - loss: 0.7216 - accuracy: 0.6639\n",
      "Epoch 60/100\n",
      "12/12 [==============================] - 0s 1ms/step - loss: 0.7179 - accuracy: 0.6639\n",
      "Epoch 61/100\n",
      "12/12 [==============================] - 0s 1ms/step - loss: 0.7141 - accuracy: 0.6639\n",
      "Epoch 62/100\n",
      "12/12 [==============================] - 0s 1ms/step - loss: 0.7104 - accuracy: 0.6639\n",
      "Epoch 63/100\n",
      "12/12 [==============================] - 0s 1ms/step - loss: 0.7071 - accuracy: 0.6639\n",
      "Epoch 64/100\n",
      "12/12 [==============================] - 0s 1ms/step - loss: 0.7036 - accuracy: 0.6639\n",
      "Epoch 65/100\n",
      "12/12 [==============================] - 0s 1ms/step - loss: 0.7002 - accuracy: 0.6639\n",
      "Epoch 66/100\n",
      "12/12 [==============================] - 0s 2ms/step - loss: 0.6968 - accuracy: 0.6639\n",
      "Epoch 67/100\n",
      "12/12 [==============================] - 0s 1ms/step - loss: 0.6935 - accuracy: 0.6639\n",
      "Epoch 68/100\n",
      "12/12 [==============================] - 0s 1ms/step - loss: 0.6902 - accuracy: 0.6639\n",
      "Epoch 69/100\n",
      "12/12 [==============================] - 0s 1ms/step - loss: 0.6870 - accuracy: 0.6639\n",
      "Epoch 70/100\n",
      "12/12 [==============================] - 0s 1000us/step - loss: 0.6839 - accuracy: 0.6639\n",
      "Epoch 71/100\n",
      "12/12 [==============================] - 0s 1ms/step - loss: 0.6807 - accuracy: 0.6639\n",
      "Epoch 72/100\n",
      "12/12 [==============================] - 0s 1ms/step - loss: 0.6776 - accuracy: 0.6639\n",
      "Epoch 73/100\n",
      "12/12 [==============================] - 0s 1ms/step - loss: 0.6748 - accuracy: 0.6639\n",
      "Epoch 74/100\n",
      "12/12 [==============================] - 0s 1ms/step - loss: 0.6721 - accuracy: 0.6639\n",
      "Epoch 75/100\n",
      "12/12 [==============================] - 0s 1ms/step - loss: 0.6689 - accuracy: 0.6639\n",
      "Epoch 76/100\n",
      "12/12 [==============================] - 0s 1ms/step - loss: 0.6656 - accuracy: 0.6639\n",
      "Epoch 77/100\n",
      "12/12 [==============================] - 0s 1ms/step - loss: 0.6627 - accuracy: 0.6639\n",
      "Epoch 78/100\n",
      "12/12 [==============================] - 0s 1ms/step - loss: 0.6599 - accuracy: 0.6723\n",
      "Epoch 79/100\n",
      "12/12 [==============================] - 0s 1ms/step - loss: 0.6570 - accuracy: 0.6723\n",
      "Epoch 80/100\n",
      "12/12 [==============================] - 0s 1ms/step - loss: 0.6542 - accuracy: 0.6723\n",
      "Epoch 81/100\n",
      "12/12 [==============================] - 0s 1ms/step - loss: 0.6519 - accuracy: 0.6723\n",
      "Epoch 82/100\n",
      "12/12 [==============================] - 0s 1ms/step - loss: 0.6486 - accuracy: 0.6723\n"
     ]
    },
    {
     "name": "stdout",
     "output_type": "stream",
     "text": [
      "Epoch 83/100\n",
      "12/12 [==============================] - 0s 1ms/step - loss: 0.6459 - accuracy: 0.6723\n",
      "Epoch 84/100\n",
      "12/12 [==============================] - 0s 1ms/step - loss: 0.6432 - accuracy: 0.6723\n",
      "Epoch 85/100\n",
      "12/12 [==============================] - 0s 1ms/step - loss: 0.6405 - accuracy: 0.6723\n",
      "Epoch 86/100\n",
      "12/12 [==============================] - 0s 1ms/step - loss: 0.6381 - accuracy: 0.6975\n",
      "Epoch 87/100\n",
      "12/12 [==============================] - 0s 1ms/step - loss: 0.6352 - accuracy: 0.6975\n",
      "Epoch 88/100\n",
      "12/12 [==============================] - 0s 1ms/step - loss: 0.6327 - accuracy: 0.6975\n",
      "Epoch 89/100\n",
      "12/12 [==============================] - 0s 1ms/step - loss: 0.6304 - accuracy: 0.6975\n",
      "Epoch 90/100\n",
      "12/12 [==============================] - 0s 1ms/step - loss: 0.6278 - accuracy: 0.6975\n",
      "Epoch 91/100\n",
      "12/12 [==============================] - 0s 1ms/step - loss: 0.6252 - accuracy: 0.6975\n",
      "Epoch 92/100\n",
      "12/12 [==============================] - 0s 1ms/step - loss: 0.6228 - accuracy: 0.6975\n",
      "Epoch 93/100\n",
      "12/12 [==============================] - 0s 1ms/step - loss: 0.6207 - accuracy: 0.6975\n",
      "Epoch 94/100\n",
      "12/12 [==============================] - 0s 1ms/step - loss: 0.6186 - accuracy: 0.6975\n",
      "Epoch 95/100\n",
      "12/12 [==============================] - 0s 1ms/step - loss: 0.6158 - accuracy: 0.6975\n",
      "Epoch 96/100\n",
      "12/12 [==============================] - 0s 1ms/step - loss: 0.6134 - accuracy: 0.6975\n",
      "Epoch 97/100\n",
      "12/12 [==============================] - 0s 1ms/step - loss: 0.6109 - accuracy: 0.6975\n",
      "Epoch 98/100\n",
      "12/12 [==============================] - 0s 1ms/step - loss: 0.6087 - accuracy: 0.6975\n",
      "Epoch 99/100\n",
      "12/12 [==============================] - 0s 1ms/step - loss: 0.6063 - accuracy: 0.6975\n",
      "Epoch 100/100\n",
      "12/12 [==============================] - 0s 1ms/step - loss: 0.6043 - accuracy: 0.6975\n"
     ]
    },
    {
     "data": {
      "text/plain": [
       "<keras.callbacks.History at 0x223f704dfa0>"
      ]
     },
     "execution_count": 7,
     "metadata": {},
     "output_type": "execute_result"
    }
   ],
   "source": [
    "model.fit(X_train, y_train, batch_size=10, epochs=100)"
   ]
  },
  {
   "cell_type": "code",
   "execution_count": 8,
   "metadata": {
    "colab": {},
    "colab_type": "code",
    "id": "_p6yilvas2kZ"
   },
   "outputs": [
    {
     "name": "stdout",
     "output_type": "stream",
     "text": [
      "1/1 [==============================] - 0s 74ms/step\n"
     ]
    }
   ],
   "source": [
    "y_pred = model.predict(X_test)\n",
    "y_test_class = np.argmax(y_test,axis=1)\n",
    "y_pred_class = np.argmax(y_pred,axis=1)"
   ]
  },
  {
   "cell_type": "code",
   "execution_count": 9,
   "metadata": {
    "colab": {
     "base_uri": "https://localhost:8080/",
     "height": 238
    },
    "colab_type": "code",
    "id": "WrgLET2Ns22J",
    "outputId": "a53a01f5-1119-4cc9-cad7-469eafb7a247"
   },
   "outputs": [
    {
     "name": "stdout",
     "output_type": "stream",
     "text": [
      "              precision    recall  f1-score   support\n",
      "\n",
      "           0       1.00      1.00      1.00        12\n",
      "           1       1.00      0.10      0.18        10\n",
      "           2       0.47      1.00      0.64         8\n",
      "\n",
      "    accuracy                           0.70        30\n",
      "   macro avg       0.82      0.70      0.61        30\n",
      "weighted avg       0.86      0.70      0.63        30\n",
      "\n",
      "[[12  0  0]\n",
      " [ 0  1  9]\n",
      " [ 0  0  8]]\n"
     ]
    }
   ],
   "source": [
    "from sklearn.metrics import classification_report,confusion_matrix\n",
    "print(classification_report(y_test_class,y_pred_class))\n",
    "print(confusion_matrix(y_test_class,y_pred_class))"
   ]
  },
  {
   "cell_type": "code",
   "execution_count": null,
   "metadata": {
    "colab": {},
    "colab_type": "code",
    "id": "2z0VjOco1zhs"
   },
   "outputs": [],
   "source": []
  }
 ],
 "metadata": {
  "colab": {
   "collapsed_sections": [],
   "name": "Multiple Classificaiton using IRIS Dataset.ipynb",
   "provenance": []
  },
  "kernelspec": {
   "display_name": "Python 3 (ipykernel)",
   "language": "python",
   "name": "python3"
  },
  "language_info": {
   "codemirror_mode": {
    "name": "ipython",
    "version": 3
   },
   "file_extension": ".py",
   "mimetype": "text/x-python",
   "name": "python",
   "nbconvert_exporter": "python",
   "pygments_lexer": "ipython3",
   "version": "3.9.7"
  }
 },
 "nbformat": 4,
 "nbformat_minor": 1
}
